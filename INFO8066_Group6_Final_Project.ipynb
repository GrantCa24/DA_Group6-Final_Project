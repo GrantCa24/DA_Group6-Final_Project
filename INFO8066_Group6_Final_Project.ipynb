{
 "cells": [
  {
   "cell_type": "markdown",
   "id": "667768dd-4cdd-48e9-86b0-aa01a69d2197",
   "metadata": {
    "editable": true,
    "slideshow": {
     "slide_type": ""
    },
    "tags": []
   },
   "source": [
    "# Final Group Project: Predict Life expectancy"
   ]
  },
  {
   "cell_type": "markdown",
   "id": "62dbe628-02ee-4855-b160-64f3d8fb164c",
   "metadata": {
    "editable": true,
    "slideshow": {
     "slide_type": ""
    },
    "tags": []
   },
   "source": [
    "**Project Info:**\n",
    "- The data-set related to life expectancy from a period of 2000 to 2015, health factors has been collected from WHO data repository website and its corresponding economic data was collected from United Nation website.\n",
    "- Reason: Because of mutual interest in World Health\n",
    "- The dataset is getting from __[Kaggle](https://www.kaggle.com/datasets/kumarajarshi/life-expectancy-who/data)__\n",
    "- Contributors\n",
    "    - Priyanka\n",
    "    - Rohit\n",
    "    - Grant"
   ]
  },
  {
   "cell_type": "markdown",
   "id": "be5c178a-bfe0-48aa-9cdb-bc8b4efdd3fe",
   "metadata": {
    "editable": true,
    "slideshow": {
     "slide_type": ""
    },
    "tags": []
   },
   "source": [
    "## Problem Statement"
   ]
  },
  {
   "cell_type": "markdown",
   "id": "c428ed63-b31a-40c5-ae23-3a866bab855e",
   "metadata": {},
   "source": [
    "What are the key factors that influence life expectancy across different countries, and how do socioeconomic variables, healthcare expenditures, \n",
    "and mortality rates correlate with life expectancy? Additionally, we can identify actionable insights that could help underperforming regions \n",
    "improve their life expectancy?"
   ]
  },
  {
   "cell_type": "markdown",
   "id": "24120156-5b52-40e8-aff9-b92a537918dc",
   "metadata": {
    "tags": []
   },
   "source": [
    "## Data Pre-Processing"
   ]
  },
  {
   "cell_type": "markdown",
   "id": "ab4e2d01-e140-49f7-aed7-18a389624114",
   "metadata": {
    "tags": []
   },
   "source": [
    "### Load Data\n",
    "Load from the data stored in **Github repository** so that each team member can directly run the code.<br>\n",
    "__[Tutorial: How to read a CSV file from GitHub on Jupyter Notebook](https://www.youtube.com/watch?v=4xXBDXDSFts)__"
   ]
  },
  {
   "cell_type": "code",
   "execution_count": null,
   "id": "ccf476c5-4b2c-4949-983f-23b182575e58",
   "metadata": {
    "tags": []
   },
   "outputs": [],
   "source": [
    "# imort library\n",
    "import pandas as pd"
   ]
  },
  {
   "cell_type": "code",
   "execution_count": null,
   "id": "72e5cf55-34f9-492b-a07f-3e1ee8aeae27",
   "metadata": {
    "tags": []
   },
   "outputs": [],
   "source": [
    "# Load data: load file from github repository\n",
    "data = pd.read_csv('https://raw.githubusercontent.com/GrantCa24/DA_Group6-Final_Project/main/data_raw/Life%20Expectancy%20Data.csv')\n",
    "data.head()"
   ]
  },
  {
   "cell_type": "markdown",
   "id": "63fd5d54-0e30-4d7e-a830-188c4a9dc4a1",
   "metadata": {
    "tags": []
   },
   "source": [
    "### Data Assessment"
   ]
  },
  {
   "cell_type": "markdown",
   "id": "8b48182c-75c4-4b48-9c84-acc50b5c3ef9",
   "metadata": {},
   "source": [
    "**Highlights:**\n",
    "- There are 2938 rows, 22 columns\n",
    "- Remove leading and trailing characters\n",
    "    - __[`Series.str.strip()`](https://pandas.pydata.org/docs/reference/api/pandas.Series.str.strip.html)__\n",
    "- Rename column name\n",
    "    - Base on the discussion as the link here: __[1-19 years: typo in the column header](https://www.kaggle.com/datasets/kumarajarshi/life-expectancy-who/discussion/276334)__ we decided to rename the header name\n",
    "- No duplicate\n",
    "- Dirty Data: Several columns has max value which does not make sense"
   ]
  },
  {
   "cell_type": "markdown",
   "id": "ee6c520d-1430-4b9b-99c0-89affc19d183",
   "metadata": {},
   "source": [
    "|Field|Description|\n",
    "|---:|:---|\n",
    "|Country|Country|\n",
    "|Year|Year|\n",
    "|Status|Developed or Developing status|\n",
    "|Life expectancy|Life Expectancy in age|\n",
    "|Adult Mortality|Adult Mortality Rates of both sexes (probability of dying between 15 and 60 years per 1000 population)|\n",
    "|infant deaths|Number of Infant Deaths per 1000 population|\n",
    "|Alcohol|Alcohol, recorded per capita (15+) consumption (in litres of pure alcohol)|\n",
    "|percentage expenditure|Expenditure on health as a percene of Gross Domestic Product per capita(%)|\n",
    "|Hepatitis B|Hepatitis B (HepB) immunization coverage among 1-year-olds (%)|\n",
    "|Measles|Measles - number of reported cases per 1000 population|\n",
    "|BMI|Average Body Mass Index of entire population|\n",
    "|under-five deaths|Number of under-five deaths per 1000 population|\n",
    "|Polio|Polio (Pol3) immunization coverage among 1-year-olds (%)|\n",
    "|Total expenditure|General government expenditure on health as a percene of total government expenditure (%)|\n",
    "|Diphtheria|Diphtheria tetanus toxoid and pertussis (DTP3) immunization coverage among 1-year-olds (%)|\n",
    "|HIV/AIDS|Deaths per 1000 live births HIV/AIDS (0-4 years)|\n",
    "|GDP|Gross Domestic Product per capita (in USD)|\n",
    "|Population|Population of the country|\n",
    "|thinness 10-19 years|Prevalence of thinness among children and adolescents for Age 10 to 19 (%)|\n",
    "|thinness 5-9 years|Prevalence of thinness among children for Age 5 to 9(%)|\n",
    "|Income composition of resources|Income composition of resources|\n",
    "|Schooling|Number of years of Schooling(years)|"
   ]
  },
  {
   "cell_type": "code",
   "execution_count": null,
   "id": "99ee4563-9b84-4ffe-ba0a-65721ec7f5f9",
   "metadata": {
    "tags": []
   },
   "outputs": [],
   "source": [
    "data.columns"
   ]
  },
  {
   "cell_type": "code",
   "execution_count": null,
   "id": "ca8c3605-4bb2-4143-b3e8-bbc453e9620d",
   "metadata": {
    "tags": []
   },
   "outputs": [],
   "source": [
    "# Remove spaces at the beginning and at the end of the headers(string)\n",
    "data.columns = data.columns.str.strip()\n",
    "print(data.columns)"
   ]
  },
  {
   "cell_type": "code",
   "execution_count": null,
   "id": "0a16d736-d30f-4e4e-ac3b-a837d1a1ca02",
   "metadata": {
    "tags": []
   },
   "outputs": [],
   "source": [
    "# Rename column 1-19 years to 10-19 years\n",
    "data.rename(columns={'thinness  1-19 years': 'thinness 10-19 years'}, inplace=True) # modify the DataFrame"
   ]
  },
  {
   "cell_type": "code",
   "execution_count": null,
   "id": "b5c31c84-8026-4348-a0d5-e3687f212e0c",
   "metadata": {
    "tags": []
   },
   "outputs": [],
   "source": [
    "# Final check after renaming column\n",
    "data.columns"
   ]
  },
  {
   "cell_type": "code",
   "execution_count": null,
   "id": "52b6438b-c6c8-486f-afe8-478df47154d7",
   "metadata": {
    "tags": []
   },
   "outputs": [],
   "source": [
    "# Check the total of rows and columns)\n",
    "rows, columns = data.shape\n",
    "print(f\"Rows: {rows}, Columns: {columns}\")"
   ]
  },
  {
   "cell_type": "code",
   "execution_count": null,
   "id": "ecdb3fd0-640a-4daa-b515-6ea954c34b99",
   "metadata": {
    "tags": []
   },
   "outputs": [],
   "source": [
    "data.info()"
   ]
  },
  {
   "cell_type": "markdown",
   "id": "59b330cf-a750-415a-989a-43422eecc8b6",
   "metadata": {
    "tags": []
   },
   "source": [
    "### Check Duplicates"
   ]
  },
  {
   "cell_type": "markdown",
   "id": "778c2cbe-d7f2-44f8-949f-dfe47df9ba5c",
   "metadata": {},
   "source": [
    "There is **no duplicate** need to handle."
   ]
  },
  {
   "cell_type": "code",
   "execution_count": null,
   "id": "aed0bf5d-fe23-4efe-93a8-1bfb7a1a471a",
   "metadata": {
    "tags": []
   },
   "outputs": [],
   "source": [
    "# Check for duplicate rows\n",
    "duplicate_rows = data.duplicated()\n",
    "\n",
    "# Count of duplicate rows\n",
    "print(f\"Number of duplicate rows: {duplicate_rows.sum()}\")"
   ]
  },
  {
   "cell_type": "markdown",
   "id": "cc859ce8-de2b-441e-9ef4-8bd31ba589eb",
   "metadata": {
    "tags": []
   },
   "source": [
    "### Check and Remove Null values in all the columns and rows"
   ]
  },
  {
   "cell_type": "markdown",
   "id": "c84bb942-7f5f-4d9c-a839-9122b37170b3",
   "metadata": {
    "jp-MarkdownHeadingCollapsed": true,
    "tags": []
   },
   "source": [
    "1. **Dropna**: We decided to drop null value of the columns that has null value lower than 10%\n",
    "    - Columns: `Life expectancy`, `Adult Mortality`, `Alcohol`, `BMI`, `Polio`, `Total expenditure`, `Diphtheria`, `thinness 10-19 years`, `thinness 5-9 years`, `Income composition of resources`, `Schooling`\n",
    "    - Reason: These null value is only a small portion compared with the whole dataset, thus it won't affect much with the analysis after we drop them.\n",
    "\n",
    "2. **Imputation**: We decided to imputate those columns that has null value with 10% \\~ 20% with mean value by `Status` \n",
    "    - Columns: `Hepatitis B` and `GDP`\n",
    "    - Reason: The amount of missing value is large, but is not that huge to affect overall after imputation. And we believe `Status` is a great categorical indicator to imputate, considering the time and effort.\n",
    "\n",
    "    - Notes: We attemp to inpute these two columns by each country and take the moving average. But after examine the data in detail, it will be too complicated and time-consuming.\n",
    "\n",
    "3. **Delete column**: We decided to delete those columns that has null value over 20%\n",
    "    - Column: `Population` 22.19% null value\n",
    "\n",
    "    - Reason: The amount of missing value is too large, which after imputation will affect a lot of the dataset.\n",
    "\n",
    "**Strategy:**\n",
    "1. Drop all the rows that contain null value\n",
    "2. Imputate the remaining null value with mean value by `Status`\n",
    "3. Delete column\n",
    "\n",
    "**Notes:**\n",
    "- Year range from 2000~2015 in the dataset"
   ]
  },
  {
   "cell_type": "markdown",
   "id": "1f816640-87bd-4236-8e31-9ca8bd1c503f",
   "metadata": {
    "tags": []
   },
   "source": [
    "#### Null value count & percentage"
   ]
  },
  {
   "cell_type": "code",
   "execution_count": null,
   "id": "7d78330a-1c6b-4e34-a71e-e142e8a8bf15",
   "metadata": {
    "tags": []
   },
   "outputs": [],
   "source": [
    "# Checking for missing values in each column\n",
    "missing_values = data.isnull().sum()\n",
    "print(missing_values)"
   ]
  },
  {
   "cell_type": "code",
   "execution_count": null,
   "id": "57a8d977-6375-410a-b678-b6aa744d4451",
   "metadata": {
    "tags": []
   },
   "outputs": [],
   "source": [
    "missing_percentage = missing_values * 100 / len(data)\n",
    "print(missing_percentage)"
   ]
  },
  {
   "cell_type": "code",
   "execution_count": null,
   "id": "37818b08-f7a5-48a7-8294-276239f91501",
   "metadata": {
    "tags": []
   },
   "outputs": [],
   "source": [
    "import matplotlib.pyplot as plt\n",
    "import seaborn as sns"
   ]
  },
  {
   "cell_type": "code",
   "execution_count": null,
   "id": "e1a707ee-3320-415f-a2a3-a8ac0233c1b9",
   "metadata": {},
   "outputs": [],
   "source": [
    "print(type(data.isnull))\n",
    "#visual representation of missing values in the dataset\n",
    "plt.figure(figsize=(15,10))\n",
    "sns.heatmap(data.isnull(), cmap = 'crest')\n",
    "plt.show()"
   ]
  },
  {
   "cell_type": "markdown",
   "id": "036c4af4-af87-449e-a670-b75f98c3a0be",
   "metadata": {
    "tags": []
   },
   "source": [
    "#### Strategy Step1:\n",
    "**Drop all the rows that contain null value.**"
   ]
  },
  {
   "cell_type": "code",
   "execution_count": null,
   "id": "0a08ffb2-a4a3-43b2-88ad-8c29531551be",
   "metadata": {
    "tags": []
   },
   "outputs": [],
   "source": [
    "# Strategy Step1: Drop all the rows that contain null value\n",
    "data.dropna(\n",
    "    subset=['Life expectancy', 'Adult Mortality', 'Alcohol', 'BMI', 'Polio', 'Total expenditure', 'Diphtheria', 'thinness 10-19 years', 'thinness 5-9 years', 'Income composition of resources', 'Schooling'],\n",
    "    inplace=True)\n",
    "# Show the remaing columns that have null values\n",
    "data.isnull().sum()"
   ]
  },
  {
   "cell_type": "code",
   "execution_count": null,
   "id": "79c65f7a-6dbc-4054-9355-9d3df0f463e1",
   "metadata": {
    "tags": []
   },
   "outputs": [],
   "source": [
    "data['Year'].unique()"
   ]
  },
  {
   "cell_type": "markdown",
   "id": "285e65df-58b4-424b-a724-764c7d909aa9",
   "metadata": {
    "tags": []
   },
   "source": [
    "#### Strategy Step2. Imputate the remaining null value with mean value by `Status`"
   ]
  },
  {
   "cell_type": "markdown",
   "id": "0215cae2-e561-454e-9e56-7f4e726f5b9b",
   "metadata": {
    "tags": []
   },
   "source": [
    "##### Hepatitis B"
   ]
  },
  {
   "cell_type": "code",
   "execution_count": null,
   "id": "aaa90353-0b61-4e56-9630-67ad77259fd8",
   "metadata": {
    "tags": []
   },
   "outputs": [],
   "source": [
    "null_hep_b = data[data['Hepatitis B'].isnull()]\n",
    "null_hep_b_country = null_hep_b['Country'].unique()"
   ]
  },
  {
   "cell_type": "code",
   "execution_count": null,
   "id": "1b161ad2-47b3-4301-87e5-03c4c5031d50",
   "metadata": {
    "tags": []
   },
   "outputs": [],
   "source": [
    "for country in null_hep_b_country:\n",
    "    null_hep_b_country = null_hep_b[null_hep_b['Country'] == country]\n",
    "    print(country, \":\")\n",
    "    print(null_hep_b_country['Year'].unique())"
   ]
  },
  {
   "cell_type": "markdown",
   "id": "d7b483fa-f692-4e65-9b99-069cebb0a4b6",
   "metadata": {
    "tags": []
   },
   "source": [
    "##### GDP"
   ]
  },
  {
   "cell_type": "code",
   "execution_count": null,
   "id": "bda03ffa-7258-418c-a89b-41470189800c",
   "metadata": {
    "tags": []
   },
   "outputs": [],
   "source": [
    "null_gdp = data[data['GDP'].isnull()]\n",
    "null_gdp_country = null_gdp['Country'].unique()"
   ]
  },
  {
   "cell_type": "code",
   "execution_count": null,
   "id": "1d093ce6-7073-4270-b7c5-38ca83c3e27c",
   "metadata": {
    "tags": []
   },
   "outputs": [],
   "source": [
    "for country in null_gdp_country:\n",
    "    null_gdp_country = null_gdp[null_gdp['Country'] == country]\n",
    "    print(country, \":\")\n",
    "    print(null_gdp_country['Year'].unique())"
   ]
  },
  {
   "cell_type": "markdown",
   "id": "1868673a-afb4-45e0-95ed-287fd5d1368e",
   "metadata": {
    "tags": []
   },
   "source": [
    "##### Mean value of `Hepatitis B` & `GDP` by `Status`\n",
    "- __[`mean()` will exclude null value as default](https://pandas.pydata.org/pandas-docs/stable/reference/api/pandas.DataFrame.mean.html)__"
   ]
  },
  {
   "cell_type": "code",
   "execution_count": null,
   "id": "cad2ed2d-6f43-4cb5-80d0-19deaad74f8e",
   "metadata": {
    "tags": []
   },
   "outputs": [],
   "source": [
    "# Impute with Developed / Developing country's median value\n",
    "\n",
    "#Create a groupby object\n",
    "data_group = data.groupby('Status')\n",
    "\n",
    "#Select only required columns\n",
    "data_columns = data_group[['Hepatitis B', 'GDP']]\n",
    "\n",
    "#Apply aggregate function\n",
    "hep_B_gdp_by_status = data_columns.mean()\n",
    "\n",
    "hep_B_gdp_by_status"
   ]
  },
  {
   "cell_type": "markdown",
   "id": "3611be68-b629-4ba8-b01d-32568820ea44",
   "metadata": {
    "tags": []
   },
   "source": [
    "##### Fill null value (Imputate with Mean)"
   ]
  },
  {
   "cell_type": "code",
   "execution_count": null,
   "id": "f3749d26-14d0-40a9-a38f-13231b94fc66",
   "metadata": {
    "tags": []
   },
   "outputs": [],
   "source": [
    "# Fill missing values for 'Hepatitis B' based on 'Status'\n",
    "data.loc[data['Status'] == 'Developed', 'Hepatitis B'] = data.loc[data['Status'] == 'Developed', 'Hepatitis B'].fillna(\n",
    "    hep_B_gdp_by_status.loc['Developed','Hepatitis B'])\n",
    "data.loc[data['Status'] == 'Developing', 'Hepatitis B'] = data.loc[data['Status'] == 'Developing', 'Hepatitis B'].fillna(\n",
    "    hep_B_gdp_by_status.loc['Developing','Hepatitis B'])"
   ]
  },
  {
   "cell_type": "code",
   "execution_count": null,
   "id": "4620ecb9-3f7f-4ac5-b288-4d3c357d3a01",
   "metadata": {
    "tags": []
   },
   "outputs": [],
   "source": [
    "# Fill missing values for 'GDP' based on 'Status'\n",
    "data.loc[data['Status'] == 'Developed', 'GDP'] = data.loc[data['Status'] == 'Developed', 'GDP'].fillna(\n",
    "    hep_B_gdp_by_status.loc['Developed','GDP'])\n",
    "data.loc[data['Status'] == 'Developing', 'GDP'] = data.loc[data['Status'] == 'Developing', 'GDP'].fillna(\n",
    "    hep_B_gdp_by_status.loc['Developing','GDP'])"
   ]
  },
  {
   "cell_type": "markdown",
   "id": "ba45368d-457a-44c0-964f-5093c38c373e",
   "metadata": {
    "tags": []
   },
   "source": [
    "#### Strategy Step3. Delete column: Population"
   ]
  },
  {
   "cell_type": "code",
   "execution_count": null,
   "id": "15d2c633-307e-412f-b62f-bf3bf032797f",
   "metadata": {
    "tags": []
   },
   "outputs": [],
   "source": [
    "null_population = data[data['Population'].isnull()]\n",
    "null_population_country = null_population['Country'].unique()"
   ]
  },
  {
   "cell_type": "code",
   "execution_count": null,
   "id": "09d417c4-7ea6-49eb-9e56-fedb3396b564",
   "metadata": {
    "tags": []
   },
   "outputs": [],
   "source": [
    "# Drop Population\n",
    "data.drop(columns=['Population'], inplace=True)\n",
    "\n",
    "# Show the null value across columns\n",
    "data.isnull().sum()"
   ]
  },
  {
   "cell_type": "markdown",
   "id": "9c2d052c-781a-49f1-85a2-884abf0b04aa",
   "metadata": {
    "tags": []
   },
   "source": [
    "### Remove Dirty Data"
   ]
  },
  {
   "cell_type": "markdown",
   "id": "58ce12c3-5779-41a8-aed0-886bdef78261",
   "metadata": {},
   "source": [
    "__[Warning from the discussion](https://www.kaggle.com/datasets/kumarajarshi/life-expectancy-who/discussion/161872)__\n",
    "- Filter out the observations of the value > 1000 of three columns which is measured by `per 1000 population`\n",
    "    - `infant death`\n",
    "    - `Measles`\n",
    "    - `under-five deaths`"
   ]
  },
  {
   "cell_type": "code",
   "execution_count": null,
   "id": "ee869b1b-0111-4ef0-9e0e-48af186f74bd",
   "metadata": {
    "tags": []
   },
   "outputs": [],
   "source": [
    "data.describe()"
   ]
  },
  {
   "cell_type": "markdown",
   "id": "29091c9e-54ce-4b0e-8715-7ac40ecf7525",
   "metadata": {
    "tags": []
   },
   "source": [
    "#### Filter out dirty data which measured by `per 1000 population`"
   ]
  },
  {
   "cell_type": "code",
   "execution_count": null,
   "id": "0614d035-f0ab-4e6d-9b0b-4e68b1cd2695",
   "metadata": {},
   "outputs": [],
   "source": [
    "# value of infant deaths, Measles, and under-five deaths should be <= 1000\n",
    "cols = [\"infant deaths\", \"Measles\", \"under-five deaths\"]\n",
    "\n",
    "# Filter out rows where any of the specified columns have values > 1,000\n",
    "data = data[(data[cols] <= 1000).all(axis=1)] # Filter and remain those <= 1000"
   ]
  },
  {
   "cell_type": "code",
   "execution_count": null,
   "id": "b871ffee-0b5b-4917-92c2-e8be8fd56d47",
   "metadata": {
    "tags": []
   },
   "outputs": [],
   "source": [
    "data.describe()"
   ]
  },
  {
   "cell_type": "code",
   "execution_count": null,
   "id": "1a2c8416-b1f4-4b7d-b588-2481148542e8",
   "metadata": {
    "tags": []
   },
   "outputs": [],
   "source": [
    "# Show the remaing columns that have null values\n",
    "data.isnull().sum()"
   ]
  },
  {
   "cell_type": "code",
   "execution_count": null,
   "id": "ee9db18d-4672-4f89-b464-7c762e626d19",
   "metadata": {
    "tags": []
   },
   "outputs": [],
   "source": [
    "data.shape"
   ]
  },
  {
   "cell_type": "markdown",
   "id": "f766aa6d-396f-41e1-8099-3f9e32ba0c82",
   "metadata": {},
   "source": [
    "## Exploratory Data Analysis (EDA)"
   ]
  },
  {
   "cell_type": "markdown",
   "id": "d0d7693a-560c-4b4f-b6d0-ba8deeb8e8c2",
   "metadata": {},
   "source": [
    "**Highlights:**\n",
    "- `Life expectancy`: Life expectancy reaches a peak in the **70-80 year range**, as seen in the histogram. The boxplot reveals that **more than 50% of the population lives beyond 70 years**, with the maximum life expectancy nearing 90 years. The median life expectancy is just above 70 years, indicating a generally high life expectancy. However, 25% of the population has a life expectancy of less than 65 years, with **several outliers living less than 50 years**. This reflects that while overall life expectancy is high, there are notable disparities, with a portion of the population suffering from significantly lower life expectancy. \n",
    "- **Right skew ( > 1)**: `under-five deaths`, `infant deaths` , `HIV/AIDS`, `percentage expenditure`, `GDP`, `Measles`, `Adult Mortality`, `thinness 5-9 years`, `thinness 10-19 years`\n",
    "- **Left skew ( < -1)**: `Income composition of resources`, `Hepatitis B`, `Polio`, `Diphtheria`\n",
    "\n",
    "<br>\n",
    "\n",
    "**Methods:**\n",
    "- `pandas.DataFrame.hist` : Only **numerical columns** will be plotted. __[Here for more info](https://pandas.pydata.org/docs/reference/api/pandas.DataFrame.hist.html)__\n",
    "- `subplot(nrows, ncols, index)` __[Here for more info](https://matplotlib.org/stable/api/_as_gen/matplotlib.pyplot.subplot.html)__\n",
    "- `kdeplot` : Only **numerical columns** will be plotted. __[Here for more info](https://seaborn.pydata.org/generated/seaborn.kdeplot.html)__"
   ]
  },
  {
   "cell_type": "code",
   "execution_count": null,
   "id": "93aefb09-2f42-46d3-a30f-e3cc8032bf0a",
   "metadata": {
    "tags": []
   },
   "outputs": [],
   "source": [
    "# Check the histograms\n",
    "data.hist(bins=35, figsize=(18, 12))\n",
    "plt.show()"
   ]
  },
  {
   "cell_type": "code",
   "execution_count": null,
   "id": "14d885e1-519c-45d6-ba9f-b7c0b243ee5e",
   "metadata": {
    "tags": []
   },
   "outputs": [],
   "source": [
    "num_cols = data.select_dtypes(\"number\").columns # select all numeric types\n",
    "print(f\"There are {len(cols)} numeric columns: \\n {cols}\")\n",
    "\n",
    "non_num_cols = data.select_dtypes(exclude=['int64', 'float64']).columns # select all numeric types\n",
    "print(f\"There are {len(non_num_cols)} non numeric columns: \\n {non_num_cols}\")"
   ]
  },
  {
   "cell_type": "code",
   "execution_count": null,
   "id": "0a7153a4-2d24-41cb-a9ad-179842939728",
   "metadata": {
    "tags": []
   },
   "outputs": [],
   "source": [
    "fig = plt.figure(figsize=(25,18))\n",
    "\n",
    "graph_index = 1 # Set the position of the subplot to 1\n",
    "for col in num_cols:\n",
    "    plt.subplot(5, 4, graph_index) # subplot(nrows, ncols, index)\n",
    "    graph = sns.kdeplot(data = data, x = col, fill = True)\n",
    "    graph_index += 1 # Set the position to the next one"
   ]
  },
  {
   "cell_type": "code",
   "execution_count": null,
   "id": "95cd9c49-4309-4069-ba17-2043cbd5ac2c",
   "metadata": {
    "tags": []
   },
   "outputs": [],
   "source": [
    "fig = plt.figure(figsize=(25,18))\n",
    "\n",
    "boxplot_index = 1 # Set the position of the subplot to 1\n",
    "for col in num_cols:\n",
    "    plt.subplot(5, 4, boxplot_index) # subplot(nrows, ncols, index)\n",
    "    # The higher the better (Life expectancy & immunization coverage)\n",
    "    if col in ['Life expectancy', 'Hepatitis B', 'Polio', 'Diphtheria']:\n",
    "        boxplot = sns.boxplot(data=data, x=col, boxprops=dict(alpha=1))  # Set alpha for transparency\n",
    "    else:\n",
    "        boxplot = sns.boxplot(data=data, x=col, boxprops=dict(alpha=0.4))  # Set alpha for transparency\n",
    "    boxplot_index += 1 # Set the position to the next one"
   ]
  },
  {
   "cell_type": "code",
   "execution_count": null,
   "id": "22cba00b-c6c0-4f1c-9b2b-fc35c98a8426",
   "metadata": {
    "tags": []
   },
   "outputs": [],
   "source": [
    "data.skew(axis = 0, skipna=True, numeric_only=True).sort_values(ascending=False) # Skewness in each numeric column with ascending order"
   ]
  },
  {
   "cell_type": "markdown",
   "id": "ec886dcd-14a7-449f-96ea-70aeec340a11",
   "metadata": {},
   "source": [
    "- **Positive** value: The distribution is skewed to the **right**.\n",
    "- **Negative** value: The distribution is skewed to the **left**.\n",
    "- **0**: **Perfect normal distribution**."
   ]
  },
  {
   "cell_type": "markdown",
   "id": "dcc8b982-e1a5-49d4-b9d0-adf4c9f5839a",
   "metadata": {},
   "source": [
    "### 🔓Synthetic data\n",
    "**Adding synthetic data for unbiased data** <br>\n",
    "Resources:\n",
    "- __[imbalanced-learn documentation](https://imbalanced-learn.org/stable/)__\n",
    "- __[YouTube tutorial](https://www.youtube.com/watch?v=4SivdTLIwHc)__"
   ]
  },
  {
   "cell_type": "markdown",
   "id": "b60ca6fd-dd65-4b00-a270-65f9f244eca6",
   "metadata": {},
   "source": [
    "As we further analyze, we found out that in a total of 168 countries:\n",
    "- Developed: **29** (with 406 observations)\n",
    "- Developing: **139** (with 1710 observations)\n",
    "\n",
    "This finding can explain why the box plot has so many outliers in some degree"
   ]
  },
  {
   "cell_type": "code",
   "execution_count": null,
   "id": "7c281a54-bb9a-4596-bcf4-b5d2b47d93d9",
   "metadata": {
    "tags": []
   },
   "outputs": [],
   "source": [
    "country_status = data.groupby('Country')['Status'].value_counts()\n",
    "country_status # Type: Series"
   ]
  },
  {
   "cell_type": "code",
   "execution_count": null,
   "id": "bc4cd60c-f1e8-4676-be11-fdcf22582218",
   "metadata": {
    "tags": []
   },
   "outputs": [],
   "source": [
    "# Count the number of unique countries\n",
    "num_countries = country_status.index.get_level_values('Country').nunique()\n",
    "print(f'Number of unique countries: {num_countries}')"
   ]
  },
  {
   "cell_type": "code",
   "execution_count": null,
   "id": "0f4ecf16-83b5-485f-a004-f0cb5c6d824c",
   "metadata": {
    "tags": []
   },
   "outputs": [],
   "source": [
    "# Count the total number of countries in each status group\n",
    "countries_per_status = country_status.groupby('Status').size()\n",
    "\n",
    "# Group by 'Status' and then count the number of unique countries in each group\n",
    "#countries_per_status = country_status.groupby('Status').apply(lambda x: x.index.get_level_values('Country').nunique())\n",
    "\n",
    "print(countries_per_status)"
   ]
  },
  {
   "cell_type": "code",
   "execution_count": null,
   "id": "87a08925-3351-4ed8-a3ac-b6db8d484f6b",
   "metadata": {
    "tags": []
   },
   "outputs": [],
   "source": [
    "# Count the total number of observations in each status group\n",
    "observations_per_status = country_status.groupby('Status').sum()\n",
    "observations_per_status"
   ]
  },
  {
   "cell_type": "code",
   "execution_count": null,
   "id": "04cd712f-d19e-4acc-8c56-da5b73355d49",
   "metadata": {
    "tags": []
   },
   "outputs": [],
   "source": [
    "# Combine the results into a DataFrame\n",
    "status_summary = pd.DataFrame({'# of Countries': countries_per_status, '# of Observations': observations_per_status})\n",
    "\n",
    "print(status_summary)"
   ]
  },
  {
   "cell_type": "markdown",
   "id": "5ecf2e63-2c54-402b-ac9e-fa85a724a4c0",
   "metadata": {},
   "source": [
    "Use over sampling method and apply to `data_resampled`\n",
    "- Make the observation of developed become the same as developing: 1701\n",
    "- Drop `Country` column since in the linear regression model, we would only use numerical data\n",
    "- As a result, `data_resampled` has 3420 rows and 20 columns"
   ]
  },
  {
   "cell_type": "markdown",
   "id": "517a7cca-672e-426c-8ec2-73fd066607c1",
   "metadata": {},
   "source": [
    "#### Resampling: Apply one-hot encoding to `Country`"
   ]
  },
  {
   "cell_type": "code",
   "execution_count": null,
   "id": "5f675a5a-b62c-4c60-94db-69a27f7dcf20",
   "metadata": {
    "scrolled": true,
    "tags": []
   },
   "outputs": [],
   "source": [
    "import pandas as pd\n",
    "from imblearn.over_sampling import SMOTE\n",
    "from sklearn.preprocessing import StandardScaler\n",
    "\n",
    "# One-hot encode the 'Country' column\n",
    "data_encoded = pd.get_dummies(data, columns=['Country'])\n",
    "\n",
    "# Separate features and target variable\n",
    "X = data_encoded.drop(['Status'], axis=1)  # Drop the target column 'Status'\n",
    "y = data_encoded['Status']  # Target variable\n",
    "\n",
    "# Apply SMOTE to balance the dataset\n",
    "smote = SMOTE(random_state=42)\n",
    "X_resampled, y_resampled = smote.fit_resample(X, y)\n",
    "\n",
    "# Combine resampled data into a DataFrame\n",
    "data_resampled = pd.DataFrame(X_resampled, columns=X.columns)\n",
    "data_resampled['Status'] = y_resampled\n",
    "\n",
    "# Display the count of each unique value in the 'Status' column after resampling\n",
    "print(data_resampled['Status'].value_counts())"
   ]
  },
  {
   "cell_type": "code",
   "execution_count": null,
   "id": "dcd03135-eba7-42ac-bf7b-ed806988f47f",
   "metadata": {},
   "outputs": [],
   "source": [
    "# Show pie plot\n",
    "pie_plot = y_resampled.value_counts().plot.pie(autopct='%.2f')\n",
    "title = pie_plot.set_title(\"Over-sampling\")"
   ]
  },
  {
   "cell_type": "code",
   "execution_count": null,
   "id": "431b9b7a-d6b1-4bc5-8d87-5ca8707210ae",
   "metadata": {},
   "outputs": [],
   "source": [
    "print(data_resampled.head())"
   ]
  },
  {
   "cell_type": "code",
   "execution_count": null,
   "id": "075f923a-631c-4e50-a83c-89fa8d86135f",
   "metadata": {},
   "outputs": [],
   "source": [
    "# Check the (row, column) of data_resampled\n",
    "data_resampled.shape"
   ]
  },
  {
   "cell_type": "code",
   "execution_count": null,
   "id": "41b0ae63-b903-446c-9015-1104c7c94db7",
   "metadata": {},
   "outputs": [],
   "source": [
    "# KDE plot resample data: continuous features\n",
    "fig = plt.figure(figsize=(25,18))\n",
    "\n",
    "graph_index = 1 # Set the position of the subplot to 1\n",
    "for col in num_cols:\n",
    "    plt.subplot(5, 4, graph_index) # subplot(nrows, ncols, index)\n",
    "    graph = sns.kdeplot(data = data_resampled, x = col, fill = True)\n",
    "    graph_index += 1 # Set the position to the next one"
   ]
  },
  {
   "cell_type": "code",
   "execution_count": null,
   "id": "7192f215-bb17-4da7-8cc2-13723fe23325",
   "metadata": {},
   "outputs": [],
   "source": [
    "# Box plot resample data\n",
    "fig = plt.figure(figsize=(25,18))\n",
    "\n",
    "boxplot_index = 1 # Set the position of the subplot to 1\n",
    "for col in num_cols:\n",
    "    plt.subplot(5, 4, boxplot_index) # subplot(nrows, ncols, index)\n",
    "    # The higher the better (Life expectancy & immunization coverage)\n",
    "    if col in ['Life expectancy', 'Hepatitis B', 'Polio', 'Diphtheria']:\n",
    "        boxplot = sns.boxplot(data=data_resampled, x=col, boxprops=dict(alpha=1))  # Set alpha for transparency\n",
    "    else:\n",
    "        boxplot = sns.boxplot(data=data_resampled, x=col, boxprops=dict(alpha=0.4))  # Set alpha for transparency\n",
    "    boxplot_index += 1 # Set the position to the next one"
   ]
  },
  {
   "cell_type": "code",
   "execution_count": null,
   "id": "5c31d0e7-9833-4a45-b492-d447f6798586",
   "metadata": {},
   "outputs": [],
   "source": [
    "data_resampled.skew(axis = 0, skipna=True, numeric_only=True).sort_values(ascending=False) # Skewness in each numeric column with ascending order"
   ]
  },
  {
   "cell_type": "markdown",
   "id": "e08265c6-7788-4249-acad-ed4f950bf73f",
   "metadata": {},
   "source": [
    "🔓**For vizualization to carry on**"
   ]
  },
  {
   "cell_type": "code",
   "execution_count": null,
   "id": "b7f30a51-969a-4558-bdc6-8d538c2a0b76",
   "metadata": {},
   "outputs": [],
   "source": [
    "# Add this section to visualization part if needed\n",
    "# Reverse one-hot encoding for 'Country'\n",
    "country_columns = [col for col in data_resampled.columns if col.startswith('Country_')]\n",
    "data_resampled['Country'] = data_resampled[country_columns].idxmax(axis=1).apply(lambda x: x.split('_')[-1])\n",
    "data_resampled.drop(country_columns, axis=1, inplace=True)"
   ]
  },
  {
   "cell_type": "code",
   "execution_count": null,
   "id": "8c63c33a-e40b-409c-b1d7-6662a0bdaf05",
   "metadata": {},
   "outputs": [],
   "source": [
    "data_resampled"
   ]
  },
  {
   "cell_type": "code",
   "execution_count": null,
   "id": "36568fbb-5686-4255-94d6-fca48fa20570",
   "metadata": {},
   "outputs": [],
   "source": [
    "# Check after reverse the one-jpt encoding, how many Developed/Developing countries are there\n",
    "country_status = data_resampled.groupby('Country')['Status'].value_counts()\n",
    "\n",
    "# Count the total number of countries in each status group\n",
    "countries_per_status = country_status.groupby('Status').size()\n",
    "\n",
    "# Group by 'Status' and then count the number of unique countries in each group\n",
    "#countries_per_status = country_status.groupby('Status').apply(lambda x: x.index.get_level_values('Country').nunique())\n",
    "\n",
    "print(countries_per_status)"
   ]
  },
  {
   "cell_type": "markdown",
   "id": "f8765cea-fa77-4ad1-87af-54f5ae9efd34",
   "metadata": {},
   "source": [
    "### Correlation"
   ]
  },
  {
   "cell_type": "code",
   "execution_count": null,
   "id": "c9b169fd-0e3b-45cc-8691-1138457baada",
   "metadata": {},
   "outputs": [],
   "source": [
    "import seaborn as sns\n",
    "import matplotlib.pyplot as plt\n",
    "import pandas as pd\n",
    "\n",
    "\n",
    "# Select numerical features for the correlation heatmap\n",
    "numerical_features = [\n",
    "    'Life expectancy', 'Adult Mortality', 'infant deaths', 'Alcohol', 'percentage expenditure', \n",
    "    'Hepatitis B', 'Measles', 'BMI', 'under-five deaths', 'Polio', \n",
    "    'Total expenditure', 'Diphtheria', 'HIV/AIDS', 'GDP', \n",
    "    'thinness 10-19 years', 'thinness 5-9 years', 'Income composition of resources', \n",
    "    'Schooling'\n",
    "]\n",
    "\n",
    "# Extract the relevant data\n",
    "data_num = data_resampled[numerical_features]\n",
    "\n",
    "# Compute the correlation matrix\n",
    "correlation_matrix = data_num.corr()\n",
    "print(correlation_matrix)"
   ]
  },
  {
   "cell_type": "code",
   "execution_count": null,
   "id": "992cff78-4487-4333-b743-0de0a46ce9f3",
   "metadata": {},
   "outputs": [],
   "source": [
    "import numpy as np\n",
    "\n",
    "# data_resampled\n",
    "# Select numerical features for the correlation heatmap\n",
    "numerical_features = [\n",
    "    'Life expectancy', 'Adult Mortality', 'infant deaths', 'Alcohol', 'percentage expenditure', \n",
    "    'Hepatitis B', 'Measles', 'BMI', 'under-five deaths', 'Polio', \n",
    "    'Total expenditure', 'Diphtheria', 'HIV/AIDS', 'GDP', \n",
    "    'thinness 10-19 years', 'thinness 5-9 years', 'Income composition of resources', \n",
    "    'Schooling'\n",
    "]\n",
    "\n",
    "# Extract the relevant data\n",
    "data_resampled_corr = data_resampled[numerical_features]\n",
    "\n",
    "# Compute the correlation matrix\n",
    "correlation_matrix = data_resampled_corr.corr()\n",
    "\n",
    "# Plot the heatmap using matplotlib\n",
    "fig, ax = plt.subplots(figsize=(10, 8))\n",
    "cax = ax.matshow(correlation_matrix, cmap='coolwarm')\n",
    "\n",
    "# Add color bar\n",
    "fig.colorbar(cax)\n",
    "\n",
    "# Set axis labels\n",
    "ax.set_xticks(range(len(correlation_matrix.columns)))\n",
    "ax.set_yticks(range(len(correlation_matrix.index)))\n",
    "ax.set_xticklabels(correlation_matrix.columns, rotation=90)\n",
    "ax.set_yticklabels(correlation_matrix.index)\n",
    "\n",
    "# Add the correlation values as text\n",
    "for (i, j), val in np.ndenumerate(correlation_matrix):\n",
    "    ax.text(j, i, f'{val:.1f}', ha='center', va='center', color='black')\n",
    "\n",
    "plt.title(\"Correlation Heatmap of Life Expectancy Variables\", pad=20)\n",
    "plt.show()"
   ]
  },
  {
   "cell_type": "code",
   "execution_count": null,
   "id": "93667c4f-ec6c-44b1-905d-53b3a2af3412",
   "metadata": {},
   "outputs": [],
   "source": [
    "data_resampled.columns"
   ]
  },
  {
   "cell_type": "code",
   "execution_count": null,
   "id": "816dfa51-ca08-4d11-98fc-cb24a9b4dbe8",
   "metadata": {},
   "outputs": [],
   "source": [
    "data_resampled.to_csv('output.csv', index=False)"
   ]
  },
  {
   "cell_type": "markdown",
   "id": "a8a0e58f-8cb8-4efc-86e2-53ac561719ca",
   "metadata": {},
   "source": [
    "## Data Visualization"
   ]
  },
  {
   "cell_type": "markdown",
   "id": "17f5d8ea-5528-47fe-b008-335c9cd28aa2",
   "metadata": {},
   "source": [
    "## 1. Which decade has the highest life expectancy?"
   ]
  },
  {
   "cell_type": "code",
   "execution_count": null,
   "id": "13fda857-64f0-44eb-96ae-850c0e1309ff",
   "metadata": {},
   "outputs": [],
   "source": [
    "# Create a new column for Life Expectancy Range in decades\n",
    "bins = [0, 30, 40, 50, 60, 70, 80, 90, 100]\n",
    "labels = ['0-30', '31-40', '41-50', '51-60', '61-70', '71-80', '81-90', '91-100']\n",
    "data_resampled['Life Expectancy Range'] = pd.cut(data_resampled['Life expectancy'], bins=bins, labels=labels, right=False)\n",
    "\n",
    "# Create a pivot table to count the number of occurrences in each Life Expectancy Range\n",
    "pivot_table = data_resampled['Life Expectancy Range'].value_counts().sort_index().reset_index()\n",
    "pivot_table.columns = ['Life Expectancy Range', 'Count']\n",
    "\n",
    "# Choose a list of colors for the bars\n",
    "colors = ['#FF6347', '#FFD700', '#90EE90', '#87CEEB', '#9370DB', '#FF69B4', '#FF4500', '#4682B4']\n",
    "\n",
    "# Plot the pivot table as a bar chart with custom colors\n",
    "plt.figure(figsize=(14, 8))\n",
    "plt.bar(pivot_table['Life Expectancy Range'], pivot_table['Count'], color=colors[:len(pivot_table)])\n",
    "plt.title('Distribution of Life Expectancy in Decade Windows')\n",
    "plt.xlabel('Life Expectancy Range')\n",
    "plt.ylabel('Count')\n",
    "plt.xticks(rotation=45)\n",
    "plt.show()"
   ]
  },
  {
   "cell_type": "markdown",
   "id": "bd40a22a-7ba9-4e40-8ac4-0f0299909c47",
   "metadata": {},
   "source": [
    "## 2. What is the proportion of different causes of deaths?"
   ]
  },
  {
   "cell_type": "code",
   "execution_count": null,
   "id": "556eea53-a9e2-4686-84b9-e67e6586d616",
   "metadata": {},
   "outputs": [],
   "source": [
    "# Summing up the values for different death causes\n",
    "death_causes = {\n",
    "    'Infant Deaths': data_resampled['infant deaths'].sum(),\n",
    "    'Under-Five Deaths': data_resampled['under-five deaths'].sum(),\n",
    "    'Adult Mortality': data_resampled['Adult Mortality'].sum()\n",
    "}\n",
    "\n",
    "# Labels and sizes for the pie chart\n",
    "labels = death_causes.keys()\n",
    "sizes = death_causes.values()\n",
    "\n",
    "# Plotting the pie chart\n",
    "plt.figure(figsize=(8, 8))\n",
    "plt.pie(sizes, labels=labels, autopct='%1.1f%%', colors=['lightcoral', 'lightskyblue', 'lightgreen'], startangle=140)\n",
    "plt.title('Proportion of Different Causes of Death')\n",
    "plt.axis('equal')  # Equal aspect ratio ensures that pie is drawn as a circle.\n",
    "\n",
    "# Show the plot\n",
    "plt.show()"
   ]
  },
  {
   "cell_type": "markdown",
   "id": "985e89fe-f0f4-493c-bf85-792480220653",
   "metadata": {},
   "source": [
    "## 3. Which 10 countries have the highest life expectancy?"
   ]
  },
  {
   "cell_type": "code",
   "execution_count": null,
   "id": "16cf3d70-34c6-412a-9016-79b0aa339666",
   "metadata": {
    "editable": true,
    "slideshow": {
     "slide_type": ""
    },
    "tags": []
   },
   "outputs": [],
   "source": [
    "# Calculate the mean life expectancy for each country\n",
    "country_life_expectancy = data_resampled.groupby('Country')['Life expectancy'].mean().reset_index()\n",
    "\n",
    "# Sort the countries by life expectancy and select the top 10\n",
    "top_10_countries = country_life_expectancy.nlargest(10, 'Life expectancy')\n",
    "\n",
    "# Plot the top 10 countries with the highest life expectancy\n",
    "plt.figure(figsize=(14, 8))\n",
    "ax = sns.barplot(x='Life expectancy', y='Country', data=top_10_countries, palette='viridis')\n",
    "plt.title('Top 10 Countries with Highest Life Expectancy')\n",
    "plt.xlabel('Average Life Expectancy')\n",
    "plt.ylabel('Country')\n",
    "\n",
    "# Set the x-axis limit\n",
    "plt.xlim(50, top_10_countries['Life expectancy'].max() + 10)  # Add a little padding on the upper limit\n",
    "\n",
    "plt.show()"
   ]
  },
  {
   "cell_type": "markdown",
   "id": "834867ce-a462-495b-85b5-a69103ce16a9",
   "metadata": {},
   "source": [
    "## 4. What has been the average Adult Mortality Rate over the years?"
   ]
  },
  {
   "cell_type": "code",
   "execution_count": null,
   "id": "b9743fd1-b61b-4e5f-b82d-0cc5cc47c291",
   "metadata": {},
   "outputs": [],
   "source": [
    "# Group the data by 'Year' and calculate the mean of 'Adult Mortality' for each year\n",
    "grouped_data = data_resampled.groupby('Year')['Adult Mortality'].mean().reset_index()\n",
    "\n",
    "# Set the size of the figure\n",
    "plt.figure(figsize=(14, 8))\n",
    "\n",
    "# Create an area plot by filling the area under the line plot\n",
    "# 'fill_between' fills the area between the x-axis and the line representing 'Adult Mortality'\n",
    "# 'alpha=0.4' sets the transparency level of the filled area to 40%\n",
    "plt.fill_between(grouped_data['Year'], grouped_data['Adult Mortality'], color='skyblue', alpha=0.4)\n",
    "\n",
    "# Plot a line chart for 'Adult Mortality' over the years\n",
    "# 'marker=\"o\"' adds a circle marker at each data point\n",
    "# 'color=\"blue\"' sets the color of the line and markers\n",
    "# 'linestyle=\"-\" ' sets the line style to a solid line\n",
    "plt.plot(grouped_data['Year'], grouped_data['Adult Mortality'], marker='o', color='blue', linestyle='-')\n",
    "\n",
    "# Set the title of the plot to describe what the chart represents\n",
    "plt.title('Average Adult Mortality Rate Over the Years')\n",
    "\n",
    "# Label the x-axis as 'Year' to indicate the time period on this axis\n",
    "plt.xlabel('Year')\n",
    "\n",
    "# Label the y-axis as 'Average Adult Mortality Rate' to indicate the average mortality rates measured\n",
    "plt.ylabel('Average Adult Mortality Rate')\n",
    "\n",
    "# Add a grid to the plot to improve readability and to make it easier to compare values\n",
    "plt.grid(True)\n",
    "\n",
    "# Display the plot\n",
    "plt.show()"
   ]
  },
  {
   "cell_type": "markdown",
   "id": "dd6df0a5-b770-4b61-adb0-1103b5ec11c7",
   "metadata": {},
   "source": [
    "## 5. Correlation of various diseases with Life expectancy"
   ]
  },
  {
   "cell_type": "code",
   "execution_count": null,
   "id": "1600a3f2-6a79-4377-b4b5-28a763c327f7",
   "metadata": {},
   "outputs": [],
   "source": [
    "# Select relevant columns for analysis\n",
    "columns_of_interest = ['Life expectancy', 'Alcohol', 'Polio', 'Measles', 'HIV/AIDS']\n",
    "\n",
    "# Calculate correlations with life expectancy\n",
    "correlations = data_resampled[columns_of_interest].corr()['Life expectancy'].drop('Life expectancy')\n",
    "\n",
    "# Plotting the correlations\n",
    "plt.figure(figsize=(10, 6))\n",
    "correlations.sort_values().plot(kind='barh', color='skyblue')\n",
    "\n",
    "# Adding title and labels\n",
    "plt.title('Correlation of Various Factors with Life Expectancy')\n",
    "plt.xlabel('Correlation Coefficient')\n",
    "plt.ylabel('Factors')\n",
    "\n",
    "# Show the plot\n",
    "plt.show()"
   ]
  },
  {
   "cell_type": "markdown",
   "id": "1083a07c-02ed-43d9-82c0-607da1c47138",
   "metadata": {},
   "source": [
    "## 6. Do Schooling and GDP have an impact over the life expectancy?"
   ]
  },
  {
   "cell_type": "code",
   "execution_count": null,
   "id": "bfd6e1ec-a0c4-4b2a-9f10-bd9b57ab0152",
   "metadata": {},
   "outputs": [],
   "source": [
    "from mpl_toolkits.mplot3d import Axes3D\n",
    "\n",
    "fig = plt.figure(figsize=(10, 8))\n",
    "ax = fig.add_subplot(111, projection='3d')\n",
    "\n",
    "# 3D scatter plot\n",
    "scatter = ax.scatter(data_resampled['GDP'], data_resampled['Schooling'], data_resampled['Life expectancy'],\n",
    "                     c=data_resampled['Life expectancy'], cmap='viridis', s=50)\n",
    "\n",
    "ax.set_xlabel('GDP')\n",
    "ax.set_ylabel('Schooling')\n",
    "ax.set_zlabel('Life Expectancy')\n",
    "plt.title('3D Plot of Life Expectancy, GDP, and SCHOOLING')\n",
    "fig.colorbar(scatter, ax=ax, shrink=0.5, aspect=5)\n",
    "plt.show()"
   ]
  },
  {
   "cell_type": "markdown",
   "id": "5ce4e9ae-eda9-4e91-87a2-49bb021f6dd0",
   "metadata": {},
   "source": [
    "## 7. Do different categories have varied life expectancy?\n"
   ]
  },
  {
   "cell_type": "code",
   "execution_count": null,
   "id": "e60de7d7-258a-49cf-8be8-0eb10e584bdb",
   "metadata": {},
   "outputs": [],
   "source": [
    "plt.figure(figsize=(12, 8))\n",
    "\n",
    "# Violin plot of life expectancy by country status\n",
    "sns.violinplot(x='Status', y='Life expectancy', data=data_resampled, palette='coolwarm')\n",
    "plt.title('Violin Plot of Life Expectancy Across Different Categories')\n",
    "plt.xlabel('Country Status')\n",
    "plt.ylabel('Life Expectancy')\n",
    "plt.show()"
   ]
  },
  {
   "cell_type": "markdown",
   "id": "d31dab8c-417a-46d0-95c2-6d28b1e70c84",
   "metadata": {},
   "source": [
    "## 8. What is the expenditure of the 5 Countries with least life expectancy?"
   ]
  },
  {
   "cell_type": "code",
   "execution_count": null,
   "id": "b9b3962d-86eb-4238-9a59-e036650b3696",
   "metadata": {},
   "outputs": [],
   "source": [
    "\n",
    "import matplotlib.pyplot as plt\n",
    "import numpy as np\n",
    "\n",
    "# Group by 'Country' and calculate the average 'Life expectancy' and 'Total expenditure'\n",
    "avg_life_exp_expenditure = data_resampled.groupby('Country').agg({\n",
    "    'Life expectancy': 'mean',\n",
    "    'Total expenditure': 'mean'\n",
    "}).sort_values(by='Life expectancy', ascending=True).head(5)\n",
    "\n",
    "# Create a list of colors for the bubbles\n",
    "colors = plt.cm.viridis(np.linspace(0, 1, len(avg_life_exp_expenditure)))\n",
    "\n",
    "# Plotting\n",
    "plt.figure(figsize=(12, 8))\n",
    "plt.scatter(avg_life_exp_expenditure['Life expectancy'], \n",
    "            avg_life_exp_expenditure['Total expenditure'], \n",
    "            s=avg_life_exp_expenditure['Total expenditure'] * 50,  # Increase the size of the bubbles\n",
    "            alpha=0.7, color=colors, edgecolor='black')\n",
    "\n",
    "plt.title('5 Countries with Lowest Average Life Expectancy and their Average Total Expenditure')\n",
    "plt.xlabel('Average Life Expectancy')\n",
    "plt.ylabel('Average Total Expenditure')\n",
    "plt.grid(True)\n",
    "\n",
    "# Adding text labels for each point (country names and expenditure amounts)\n",
    "for i in range(len(avg_life_exp_expenditure)):\n",
    "    plt.text(avg_life_exp_expenditure['Life expectancy'].iloc[i] + 0.1,  # Adjust for better positioning\n",
    "             avg_life_exp_expenditure['Total expenditure'].iloc[i] + 0.1, \n",
    "             f\"{avg_life_exp_expenditure.index[i]}\\n%{avg_life_exp_expenditure['Total expenditure'].iloc[i]:,.2f}\", \n",
    "             fontsize=9, verticalalignment='center')\n",
    "\n",
    "plt.show()"
   ]
  },
  {
   "cell_type": "markdown",
   "id": "75305190-7919-4f11-a7d5-99d1b160b2d0",
   "metadata": {},
   "source": [
    "## Predictive Model"
   ]
  },
  {
   "cell_type": "markdown",
   "id": "a8ecbfec-773e-45e6-b503-7987adb6e5aa",
   "metadata": {},
   "source": [
    "### Linear Regression"
   ]
  },
  {
   "cell_type": "code",
   "execution_count": null,
   "id": "5f154ae8-ef7c-4eec-8d85-b387644fac72",
   "metadata": {},
   "outputs": [],
   "source": [
    "import pandas as pd\n",
    "from sklearn.model_selection import train_test_split\n",
    "from sklearn.linear_model import LinearRegression\n",
    "from sklearn.metrics import mean_squared_error\n",
    "\n",
    "# List of numerical features and target\n",
    "numerical_features = [\n",
    "    'Adult Mortality', 'infant deaths', 'Alcohol', 'percentage expenditure', \n",
    "    'Hepatitis B', 'Measles', 'BMI', 'under-five deaths', 'Polio', \n",
    "    'Total expenditure', 'Diphtheria', 'HIV/AIDS', 'GDP', \n",
    "    'thinness 10-19 years', 'thinness 5-9 years', 'Income composition of resources', \n",
    "    'Schooling'\n",
    "]\n",
    "target = 'Life expectancy'\n",
    "\n",
    "# Prepare the features and target, handling missing values\n",
    "X = data_resampled[numerical_features]\n",
    "y = data_resampled[target]\n",
    "\n",
    "# Split the data into training and testing sets\n",
    "X_train, X_test, y_train, y_test = train_test_split(X, y, test_size=0.2, random_state=42)\n",
    "\n",
    "# Fit the linear regression model\n",
    "model = LinearRegression()\n",
    "model.fit(X_train, y_train)\n",
    "\n",
    "# Predict and evaluate the model\n",
    "y_pred = model.predict(X_test)\n",
    "r_squared = model.score(X_test, y_test)\n",
    "mse = mean_squared_error(y_test, y_pred)\n",
    "\n",
    "print(f'R-squared: {r_squared:.2f}, Mean Squared Error: {mse:.2f}')\n"
   ]
  },
  {
   "cell_type": "code",
   "execution_count": null,
   "id": "e3508468-d546-4cf7-977e-57c0ce410e49",
   "metadata": {},
   "outputs": [],
   "source": [
    "# Scatter plot for Actual vs Predicted values\n",
    "plt.figure(figsize=(10, 6))\n",
    "plt.scatter(y_test, y_pred, alpha=0.5, color='blue')\n",
    "plt.plot([min(y_test), max(y_test)], [min(y_test), max(y_test)], color='red')  # Diagonal line\n",
    "plt.xlabel('Actual Life Expectancy')\n",
    "plt.ylabel('Predicted Life Expectancy')\n",
    "plt.title('Actual vs Predicted Life Expectancy')\n",
    "plt.show()"
   ]
  },
  {
   "cell_type": "markdown",
   "id": "616613ef-1b34-4bcf-a6fd-92526f235677",
   "metadata": {},
   "source": [
    "## Performance of other Model's"
   ]
  },
  {
   "cell_type": "code",
   "execution_count": null,
   "id": "a6c93021-37e7-45e7-bdd5-d1df98a0f702",
   "metadata": {},
   "outputs": [],
   "source": [
    "from sklearn.linear_model import Ridge\n",
    "from sklearn.pipeline import make_pipeline\n",
    "from sklearn.preprocessing import StandardScaler\n",
    "from sklearn.metrics import r2_score\n",
    "\n",
    "# Create a Ridge regression model\n",
    "ridge_model = make_pipeline(StandardScaler(), Ridge(alpha=1.0))\n",
    "\n",
    "# Train the model\n",
    "ridge_model.fit(X_train, y_train)\n",
    "\n",
    "# Predict on the test set\n",
    "y_pred_ridge = ridge_model.predict(X_test)\n",
    "\n",
    "# Calculate mean squared error and R-squared\n",
    "mse_ridge = mean_squared_error(y_test, y_pred_ridge)\n",
    "r2_ridge = r2_score(y_test, y_pred_ridge)\n",
    "\n",
    "print(f'Mean Squared Error (Ridge): {mse_ridge}')\n",
    "print(f'R-squared (Ridge): {r2_ridge}')\n"
   ]
  },
  {
   "cell_type": "code",
   "execution_count": null,
   "id": "2a8ed03d-6ba8-4788-9b8b-b78216b0c7ab",
   "metadata": {},
   "outputs": [],
   "source": [
    "from sklearn.linear_model import Lasso\n",
    "\n",
    "# Create a Lasso regression model\n",
    "lasso_model = make_pipeline(StandardScaler(), Lasso(alpha=0.1))\n",
    "\n",
    "# Train the model\n",
    "lasso_model.fit(X_train, y_train)\n",
    "\n",
    "# Predict on the test set\n",
    "y_pred_lasso = lasso_model.predict(X_test)\n",
    "\n",
    "# Calculate mean squared error and R-squared\n",
    "mse_lasso = mean_squared_error(y_test, y_pred_lasso)\n",
    "r2_lasso = r2_score(y_test, y_pred_lasso)\n",
    "\n",
    "print(f'Mean Squared Error (Lasso): {mse_lasso}')\n",
    "print(f'R-squared (Lasso): {r2_lasso}')\n"
   ]
  },
  {
   "cell_type": "code",
   "execution_count": null,
   "id": "cd2109d1-e627-441c-8ee6-fcfc3045a1e8",
   "metadata": {},
   "outputs": [],
   "source": [
    "from sklearn.ensemble import RandomForestRegressor\n",
    "\n",
    "# Create a Random Forest regression model\n",
    "rf_model = RandomForestRegressor(n_estimators=100, random_state=42)\n",
    "\n",
    "# Train the model\n",
    "rf_model.fit(X_train, y_train)\n",
    "\n",
    "# Predict on the test set\n",
    "y_pred_rf = rf_model.predict(X_test)\n",
    "\n",
    "# Calculate mean squared error and R-squared\n",
    "mse_rf = mean_squared_error(y_test, y_pred_rf)\n",
    "r2_rf = r2_score(y_test, y_pred_rf)\n",
    "\n",
    "print(f'Mean Squared Error (Random Forest): {mse_rf}')\n",
    "print(f'R-squared (Random Forest): {r2_rf}')\n",
    "\n"
   ]
  },
  {
   "cell_type": "code",
   "execution_count": null,
   "id": "aff1f374-d918-464d-8e85-19cb08148066",
   "metadata": {},
   "outputs": [],
   "source": [
    "import matplotlib.pyplot as plt\n",
    "\n",
    "def plot_results(y_test, y_pred_ridge, y_pred_lasso, y_pred_rf):\n",
    "    plt.figure(figsize=(15, 5))\n",
    "\n",
    "    # Ridge Regression\n",
    "    plt.subplot(1, 3, 1)\n",
    "    plt.scatter(y_test, y_pred_ridge, alpha=0.5, color='blue')\n",
    "    plt.plot([min(y_test), max(y_test)], [min(y_test), max(y_test)], color='red')  # Diagonal line\n",
    "    plt.xlabel('Actual Life Expectancy')\n",
    "    plt.ylabel('Predicted Life Expectancy')\n",
    "    plt.title('Ridge Regression')\n",
    "\n",
    "    # Lasso Regression\n",
    "    plt.subplot(1, 3, 2)\n",
    "    plt.scatter(y_test, y_pred_lasso, alpha=0.5, color='green')\n",
    "    plt.plot([min(y_test), max(y_test)], [min(y_test), max(y_test)], color='red')  # Diagonal line\n",
    "    plt.xlabel('Actual Life Expectancy')\n",
    "    plt.ylabel('Predicted Life Expectancy')\n",
    "    plt.title('Lasso Regression')\n",
    "\n",
    "    # Random Forest Regression\n",
    "    plt.subplot(1, 3, 3)\n",
    "    plt.scatter(y_test, y_pred_rf, alpha=0.5, color='purple')\n",
    "    plt.plot([min(y_test), max(y_test)], [min(y_test), max(y_test)], color='red')  # Diagonal line\n",
    "    plt.xlabel('Actual Life Expectancy')\n",
    "    plt.ylabel('Predicted Life Expectancy')\n",
    "    plt.title('Random Forest Regression')\n",
    "\n",
    "    plt.tight_layout()\n",
    "    plt.show()\n",
    "\n",
    "# Plot results for each model side by side\n",
    "plot_results(y_test, y_pred_ridge, y_pred_lasso, y_pred_rf)\n"
   ]
  }
 ],
 "metadata": {
  "kernelspec": {
   "display_name": "Python 3 (ipykernel)",
   "language": "python",
   "name": "python3"
  },
  "language_info": {
   "codemirror_mode": {
    "name": "ipython",
    "version": 3
   },
   "file_extension": ".py",
   "mimetype": "text/x-python",
   "name": "python",
   "nbconvert_exporter": "python",
   "pygments_lexer": "ipython3",
   "version": "3.12.4"
  }
 },
 "nbformat": 4,
 "nbformat_minor": 5
}
