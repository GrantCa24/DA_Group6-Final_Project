{
 "cells": [
  {
   "cell_type": "markdown",
   "id": "667768dd-4cdd-48e9-86b0-aa01a69d2197",
   "metadata": {},
   "source": [
    "# Final Group Project: Predict Life expectancy"
   ]
  },
  {
   "cell_type": "markdown",
   "id": "62dbe628-02ee-4855-b160-64f3d8fb164c",
   "metadata": {},
   "source": [
    "**Project Info:**\n",
    "- The dataset is getting from __[Kaggle](https://www.kaggle.com/datasets/kumarajarshi/life-expectancy-who/data)__\n",
    "- Contributors\n",
    "    - Priyanka\n",
    "    - Rohit\n",
    "    - Grant"
   ]
  },
  {
   "cell_type": "markdown",
   "id": "24120156-5b52-40e8-aff9-b92a537918dc",
   "metadata": {
    "tags": []
   },
   "source": [
    "## Data Pre-Processing"
   ]
  },
  {
   "cell_type": "markdown",
   "id": "ab4e2d01-e140-49f7-aed7-18a389624114",
   "metadata": {
    "tags": []
   },
   "source": [
    "### Load Data\n",
    "Load from the data stored in **Github repository** so that each team member can directly run the code.<br>\n",
    "__[Tutorial: How to read a CSV file from GitHub on Jupyter Notebook](https://www.youtube.com/watch?v=4xXBDXDSFts)__"
   ]
  },
  {
   "cell_type": "code",
   "execution_count": 5,
   "id": "ccf476c5-4b2c-4949-983f-23b182575e58",
   "metadata": {
    "tags": []
   },
   "outputs": [],
   "source": [
    "# imort library\n",
    "import pandas as pd"
   ]
  },
  {
   "cell_type": "code",
   "execution_count": 6,
   "id": "72e5cf55-34f9-492b-a07f-3e1ee8aeae27",
   "metadata": {
    "tags": []
   },
   "outputs": [
    {
     "data": {
      "text/html": [
       "<div>\n",
       "<style scoped>\n",
       "    .dataframe tbody tr th:only-of-type {\n",
       "        vertical-align: middle;\n",
       "    }\n",
       "\n",
       "    .dataframe tbody tr th {\n",
       "        vertical-align: top;\n",
       "    }\n",
       "\n",
       "    .dataframe thead th {\n",
       "        text-align: right;\n",
       "    }\n",
       "</style>\n",
       "<table border=\"1\" class=\"dataframe\">\n",
       "  <thead>\n",
       "    <tr style=\"text-align: right;\">\n",
       "      <th></th>\n",
       "      <th>Country</th>\n",
       "      <th>Year</th>\n",
       "      <th>Status</th>\n",
       "      <th>Life expectancy</th>\n",
       "      <th>Adult Mortality</th>\n",
       "      <th>infant deaths</th>\n",
       "      <th>Alcohol</th>\n",
       "      <th>percentage expenditure</th>\n",
       "      <th>Hepatitis B</th>\n",
       "      <th>Measles</th>\n",
       "      <th>...</th>\n",
       "      <th>Polio</th>\n",
       "      <th>Total expenditure</th>\n",
       "      <th>Diphtheria</th>\n",
       "      <th>HIV/AIDS</th>\n",
       "      <th>GDP</th>\n",
       "      <th>Population</th>\n",
       "      <th>thinness  1-19 years</th>\n",
       "      <th>thinness 5-9 years</th>\n",
       "      <th>Income composition of resources</th>\n",
       "      <th>Schooling</th>\n",
       "    </tr>\n",
       "  </thead>\n",
       "  <tbody>\n",
       "    <tr>\n",
       "      <th>0</th>\n",
       "      <td>Afghanistan</td>\n",
       "      <td>2015</td>\n",
       "      <td>Developing</td>\n",
       "      <td>65.0</td>\n",
       "      <td>263.0</td>\n",
       "      <td>62</td>\n",
       "      <td>0.01</td>\n",
       "      <td>71.279624</td>\n",
       "      <td>65.0</td>\n",
       "      <td>1154</td>\n",
       "      <td>...</td>\n",
       "      <td>6.0</td>\n",
       "      <td>8.16</td>\n",
       "      <td>65.0</td>\n",
       "      <td>0.1</td>\n",
       "      <td>584.259210</td>\n",
       "      <td>33736494.0</td>\n",
       "      <td>17.2</td>\n",
       "      <td>17.3</td>\n",
       "      <td>0.479</td>\n",
       "      <td>10.1</td>\n",
       "    </tr>\n",
       "    <tr>\n",
       "      <th>1</th>\n",
       "      <td>Afghanistan</td>\n",
       "      <td>2014</td>\n",
       "      <td>Developing</td>\n",
       "      <td>59.9</td>\n",
       "      <td>271.0</td>\n",
       "      <td>64</td>\n",
       "      <td>0.01</td>\n",
       "      <td>73.523582</td>\n",
       "      <td>62.0</td>\n",
       "      <td>492</td>\n",
       "      <td>...</td>\n",
       "      <td>58.0</td>\n",
       "      <td>8.18</td>\n",
       "      <td>62.0</td>\n",
       "      <td>0.1</td>\n",
       "      <td>612.696514</td>\n",
       "      <td>327582.0</td>\n",
       "      <td>17.5</td>\n",
       "      <td>17.5</td>\n",
       "      <td>0.476</td>\n",
       "      <td>10.0</td>\n",
       "    </tr>\n",
       "    <tr>\n",
       "      <th>2</th>\n",
       "      <td>Afghanistan</td>\n",
       "      <td>2013</td>\n",
       "      <td>Developing</td>\n",
       "      <td>59.9</td>\n",
       "      <td>268.0</td>\n",
       "      <td>66</td>\n",
       "      <td>0.01</td>\n",
       "      <td>73.219243</td>\n",
       "      <td>64.0</td>\n",
       "      <td>430</td>\n",
       "      <td>...</td>\n",
       "      <td>62.0</td>\n",
       "      <td>8.13</td>\n",
       "      <td>64.0</td>\n",
       "      <td>0.1</td>\n",
       "      <td>631.744976</td>\n",
       "      <td>31731688.0</td>\n",
       "      <td>17.7</td>\n",
       "      <td>17.7</td>\n",
       "      <td>0.470</td>\n",
       "      <td>9.9</td>\n",
       "    </tr>\n",
       "    <tr>\n",
       "      <th>3</th>\n",
       "      <td>Afghanistan</td>\n",
       "      <td>2012</td>\n",
       "      <td>Developing</td>\n",
       "      <td>59.5</td>\n",
       "      <td>272.0</td>\n",
       "      <td>69</td>\n",
       "      <td>0.01</td>\n",
       "      <td>78.184215</td>\n",
       "      <td>67.0</td>\n",
       "      <td>2787</td>\n",
       "      <td>...</td>\n",
       "      <td>67.0</td>\n",
       "      <td>8.52</td>\n",
       "      <td>67.0</td>\n",
       "      <td>0.1</td>\n",
       "      <td>669.959000</td>\n",
       "      <td>3696958.0</td>\n",
       "      <td>17.9</td>\n",
       "      <td>18.0</td>\n",
       "      <td>0.463</td>\n",
       "      <td>9.8</td>\n",
       "    </tr>\n",
       "    <tr>\n",
       "      <th>4</th>\n",
       "      <td>Afghanistan</td>\n",
       "      <td>2011</td>\n",
       "      <td>Developing</td>\n",
       "      <td>59.2</td>\n",
       "      <td>275.0</td>\n",
       "      <td>71</td>\n",
       "      <td>0.01</td>\n",
       "      <td>7.097109</td>\n",
       "      <td>68.0</td>\n",
       "      <td>3013</td>\n",
       "      <td>...</td>\n",
       "      <td>68.0</td>\n",
       "      <td>7.87</td>\n",
       "      <td>68.0</td>\n",
       "      <td>0.1</td>\n",
       "      <td>63.537231</td>\n",
       "      <td>2978599.0</td>\n",
       "      <td>18.2</td>\n",
       "      <td>18.2</td>\n",
       "      <td>0.454</td>\n",
       "      <td>9.5</td>\n",
       "    </tr>\n",
       "  </tbody>\n",
       "</table>\n",
       "<p>5 rows × 22 columns</p>\n",
       "</div>"
      ],
      "text/plain": [
       "       Country  Year      Status  Life expectancy   Adult Mortality  \\\n",
       "0  Afghanistan  2015  Developing              65.0            263.0   \n",
       "1  Afghanistan  2014  Developing              59.9            271.0   \n",
       "2  Afghanistan  2013  Developing              59.9            268.0   \n",
       "3  Afghanistan  2012  Developing              59.5            272.0   \n",
       "4  Afghanistan  2011  Developing              59.2            275.0   \n",
       "\n",
       "   infant deaths  Alcohol  percentage expenditure  Hepatitis B  Measles   ...  \\\n",
       "0             62     0.01               71.279624         65.0      1154  ...   \n",
       "1             64     0.01               73.523582         62.0       492  ...   \n",
       "2             66     0.01               73.219243         64.0       430  ...   \n",
       "3             69     0.01               78.184215         67.0      2787  ...   \n",
       "4             71     0.01                7.097109         68.0      3013  ...   \n",
       "\n",
       "   Polio  Total expenditure  Diphtheria    HIV/AIDS         GDP  Population  \\\n",
       "0    6.0               8.16         65.0        0.1  584.259210  33736494.0   \n",
       "1   58.0               8.18         62.0        0.1  612.696514    327582.0   \n",
       "2   62.0               8.13         64.0        0.1  631.744976  31731688.0   \n",
       "3   67.0               8.52         67.0        0.1  669.959000   3696958.0   \n",
       "4   68.0               7.87         68.0        0.1   63.537231   2978599.0   \n",
       "\n",
       "    thinness  1-19 years   thinness 5-9 years  \\\n",
       "0                   17.2                 17.3   \n",
       "1                   17.5                 17.5   \n",
       "2                   17.7                 17.7   \n",
       "3                   17.9                 18.0   \n",
       "4                   18.2                 18.2   \n",
       "\n",
       "   Income composition of resources  Schooling  \n",
       "0                            0.479       10.1  \n",
       "1                            0.476       10.0  \n",
       "2                            0.470        9.9  \n",
       "3                            0.463        9.8  \n",
       "4                            0.454        9.5  \n",
       "\n",
       "[5 rows x 22 columns]"
      ]
     },
     "execution_count": 6,
     "metadata": {},
     "output_type": "execute_result"
    }
   ],
   "source": [
    "# Load data: load file from github repository\n",
    "data = pd.read_csv('https://raw.githubusercontent.com/GrantCa24/DA_Group6-Final_Project/main/data_raw/Life%20Expectancy%20Data.csv')\n",
    "data.head()"
   ]
  },
  {
   "cell_type": "markdown",
   "id": "63fd5d54-0e30-4d7e-a830-188c4a9dc4a1",
   "metadata": {
    "tags": []
   },
   "source": [
    "### Data Assessment"
   ]
  },
  {
   "cell_type": "markdown",
   "id": "8b48182c-75c4-4b48-9c84-acc50b5c3ef9",
   "metadata": {},
   "source": [
    "**Highlights:**\n",
    "- There are 2938 rows, 22 columns.\n",
    "- Remove leading and trailing characters.\n",
    "    - __[`Series.str.strip()`](https://pandas.pydata.org/docs/reference/api/pandas.Series.str.strip.html)__\n",
    "- Rename column name\n",
    "    - Base on the discussion as the link here: __[1-19 years: typo in the column header](https://www.kaggle.com/datasets/kumarajarshi/life-expectancy-who/discussion/276334)__ we decided to rename the header name.\n",
    "- No duplicate.\n",
    "- Data integrity (Outliers): Several columns has max value which does not make sense."
   ]
  },
  {
   "cell_type": "markdown",
   "id": "ee6c520d-1430-4b9b-99c0-89affc19d183",
   "metadata": {},
   "source": [
    "|Field|Description|\n",
    "|---:|:---|\n",
    "|Country|Country|\n",
    "|Year|Year|\n",
    "|Status|Developed or Developing status|\n",
    "|Life expectancy|Life Expectancy in age|\n",
    "|Adult Mortality|Adult Mortality Rates of both sexes (probability of dying between 15 and 60 years per 1000 population)|\n",
    "|infant deaths|Number of Infant Deaths per 1000 population|\n",
    "|Alcohol|Alcohol, recorded per capita (15+) consumption (in litres of pure alcohol)|\n",
    "|percentage expenditure|Expenditure on health as a percene of Gross Domestic Product per capita(%)|\n",
    "|Hepatitis B|Hepatitis B (HepB) immunization coverage among 1-year-olds (%)|\n",
    "|Measles|Measles - number of reported cases per 1000 population|\n",
    "|BMI|Average Body Mass Index of entire population|\n",
    "|under-five deaths|Number of under-five deaths per 1000 population|\n",
    "|Polio|Polio (Pol3) immunization coverage among 1-year-olds (%)|\n",
    "|Total expenditure|General government expenditure on health as a percene of total government expenditure (%)|\n",
    "|Diphtheria|Diphtheria tetanus toxoid and pertussis (DTP3) immunization coverage among 1-year-olds (%)|\n",
    "|HIV/AIDS|Deaths per 1000 live births HIV/AIDS (0-4 years)|\n",
    "|GDP|Gross Domestic Product per capita (in USD)|\n",
    "|Population|Population of the country|\n",
    "|thinness 10-19 years|Prevalence of thinness among children and adolescents for Age 10 to 19 (%)|\n",
    "|thinness 5-9 years|Prevalence of thinness among children for Age 5 to 9(%)|\n",
    "|Income composition of resources|Income composition of resources|\n",
    "|Schooling|Number of years of Schooling(years)|"
   ]
  },
  {
   "cell_type": "code",
   "execution_count": 10,
   "id": "99ee4563-9b84-4ffe-ba0a-65721ec7f5f9",
   "metadata": {
    "tags": []
   },
   "outputs": [
    {
     "data": {
      "text/plain": [
       "Index(['Country', 'Year', 'Status', 'Life expectancy ', 'Adult Mortality',\n",
       "       'infant deaths', 'Alcohol', 'percentage expenditure', 'Hepatitis B',\n",
       "       'Measles ', ' BMI ', 'under-five deaths ', 'Polio', 'Total expenditure',\n",
       "       'Diphtheria ', ' HIV/AIDS', 'GDP', 'Population',\n",
       "       ' thinness  1-19 years', ' thinness 5-9 years',\n",
       "       'Income composition of resources', 'Schooling'],\n",
       "      dtype='object')"
      ]
     },
     "execution_count": 10,
     "metadata": {},
     "output_type": "execute_result"
    }
   ],
   "source": [
    "data.columns"
   ]
  },
  {
   "cell_type": "code",
   "execution_count": 11,
   "id": "ca8c3605-4bb2-4143-b3e8-bbc453e9620d",
   "metadata": {
    "tags": []
   },
   "outputs": [
    {
     "name": "stdout",
     "output_type": "stream",
     "text": [
      "Index(['Country', 'Year', 'Status', 'Life expectancy', 'Adult Mortality',\n",
      "       'infant deaths', 'Alcohol', 'percentage expenditure', 'Hepatitis B',\n",
      "       'Measles', 'BMI', 'under-five deaths', 'Polio', 'Total expenditure',\n",
      "       'Diphtheria', 'HIV/AIDS', 'GDP', 'Population', 'thinness  1-19 years',\n",
      "       'thinness 5-9 years', 'Income composition of resources', 'Schooling'],\n",
      "      dtype='object')\n"
     ]
    }
   ],
   "source": [
    "# Remove spaces at the beginning and at the end of the headers(string)\n",
    "data.columns = data.columns.str.strip()\n",
    "print(data.columns)"
   ]
  },
  {
   "cell_type": "code",
   "execution_count": 12,
   "id": "0a16d736-d30f-4e4e-ac3b-a837d1a1ca02",
   "metadata": {
    "tags": []
   },
   "outputs": [],
   "source": [
    "# Rename column 1-19 years to 10-19 years\n",
    "data.rename(columns={'thinness  1-19 years': 'thinness 10-19 years'}, inplace=True) # modify the DataFrame"
   ]
  },
  {
   "cell_type": "code",
   "execution_count": 13,
   "id": "b5c31c84-8026-4348-a0d5-e3687f212e0c",
   "metadata": {
    "tags": []
   },
   "outputs": [
    {
     "data": {
      "text/plain": [
       "Index(['Country', 'Year', 'Status', 'Life expectancy', 'Adult Mortality',\n",
       "       'infant deaths', 'Alcohol', 'percentage expenditure', 'Hepatitis B',\n",
       "       'Measles', 'BMI', 'under-five deaths', 'Polio', 'Total expenditure',\n",
       "       'Diphtheria', 'HIV/AIDS', 'GDP', 'Population', 'thinness 10-19 years',\n",
       "       'thinness 5-9 years', 'Income composition of resources', 'Schooling'],\n",
       "      dtype='object')"
      ]
     },
     "execution_count": 13,
     "metadata": {},
     "output_type": "execute_result"
    }
   ],
   "source": [
    "# Final check after renaming column\n",
    "data.columns"
   ]
  },
  {
   "cell_type": "code",
   "execution_count": 14,
   "id": "52b6438b-c6c8-486f-afe8-478df47154d7",
   "metadata": {
    "tags": []
   },
   "outputs": [
    {
     "name": "stdout",
     "output_type": "stream",
     "text": [
      "Rows: 2938, Columns: 22\n"
     ]
    }
   ],
   "source": [
    "# Check the total of rows and columns)\n",
    "rows, columns = data.shape\n",
    "print(f\"Rows: {rows}, Columns: {columns}\")"
   ]
  },
  {
   "cell_type": "code",
   "execution_count": 15,
   "id": "ecdb3fd0-640a-4daa-b515-6ea954c34b99",
   "metadata": {
    "tags": []
   },
   "outputs": [
    {
     "name": "stdout",
     "output_type": "stream",
     "text": [
      "<class 'pandas.core.frame.DataFrame'>\n",
      "RangeIndex: 2938 entries, 0 to 2937\n",
      "Data columns (total 22 columns):\n",
      " #   Column                           Non-Null Count  Dtype  \n",
      "---  ------                           --------------  -----  \n",
      " 0   Country                          2938 non-null   object \n",
      " 1   Year                             2938 non-null   int64  \n",
      " 2   Status                           2938 non-null   object \n",
      " 3   Life expectancy                  2928 non-null   float64\n",
      " 4   Adult Mortality                  2928 non-null   float64\n",
      " 5   infant deaths                    2938 non-null   int64  \n",
      " 6   Alcohol                          2744 non-null   float64\n",
      " 7   percentage expenditure           2938 non-null   float64\n",
      " 8   Hepatitis B                      2385 non-null   float64\n",
      " 9   Measles                          2938 non-null   int64  \n",
      " 10  BMI                              2904 non-null   float64\n",
      " 11  under-five deaths                2938 non-null   int64  \n",
      " 12  Polio                            2919 non-null   float64\n",
      " 13  Total expenditure                2712 non-null   float64\n",
      " 14  Diphtheria                       2919 non-null   float64\n",
      " 15  HIV/AIDS                         2938 non-null   float64\n",
      " 16  GDP                              2490 non-null   float64\n",
      " 17  Population                       2286 non-null   float64\n",
      " 18  thinness 10-19 years             2904 non-null   float64\n",
      " 19  thinness 5-9 years               2904 non-null   float64\n",
      " 20  Income composition of resources  2771 non-null   float64\n",
      " 21  Schooling                        2775 non-null   float64\n",
      "dtypes: float64(16), int64(4), object(2)\n",
      "memory usage: 505.1+ KB\n"
     ]
    }
   ],
   "source": [
    "data.info()"
   ]
  },
  {
   "cell_type": "markdown",
   "id": "59b330cf-a750-415a-989a-43422eecc8b6",
   "metadata": {
    "tags": []
   },
   "source": [
    "### Check Duplicates"
   ]
  },
  {
   "cell_type": "markdown",
   "id": "778c2cbe-d7f2-44f8-949f-dfe47df9ba5c",
   "metadata": {},
   "source": [
    "There is **no duplicate** need to handle."
   ]
  },
  {
   "cell_type": "code",
   "execution_count": 18,
   "id": "aed0bf5d-fe23-4efe-93a8-1bfb7a1a471a",
   "metadata": {
    "tags": []
   },
   "outputs": [
    {
     "name": "stdout",
     "output_type": "stream",
     "text": [
      "Number of duplicate rows: 0\n"
     ]
    }
   ],
   "source": [
    "# Check for duplicate rows\n",
    "duplicate_rows = data.duplicated()\n",
    "\n",
    "# Count of duplicate rows\n",
    "print(f\"Number of duplicate rows: {duplicate_rows.sum()}\")"
   ]
  },
  {
   "cell_type": "markdown",
   "id": "cc859ce8-de2b-441e-9ef4-8bd31ba589eb",
   "metadata": {
    "tags": []
   },
   "source": [
    "### Check and Remove Null values in all the columns and rows"
   ]
  },
  {
   "cell_type": "markdown",
   "id": "c84bb942-7f5f-4d9c-a839-9122b37170b3",
   "metadata": {
    "jp-MarkdownHeadingCollapsed": true,
    "tags": []
   },
   "source": [
    "**Imputation**: We decided to imputate those columns that has null value with 10% \\~ 20% with mean value by `Status` \n",
    "- Hepatitis B\n",
    "- GDP\n",
    "\n",
    "Reason: The amount of missing value is large, but is not that huge to affect overall after imputation. And we believe `Status` is a great categorical indicator to imputate, considering the time and effort.\n",
    "\n",
    "Notes: We attemp to inpute these two columns by each country and take the moving average. But after examine the data in detail, it will be too complicated and time-consuming.\n",
    "\n",
    "**Delete column**: We decided to delete those columns that has null value over 20%\n",
    "- Population: 22.19% null value\n",
    "\n",
    "Reason: The amount of missing value is too large, which after imputation will affect a lot of the dataset.\n",
    "\n",
    "**Dropna**: We decided to drop null value of the columns that has null value lower than 10%\n",
    "- The remaining column\n",
    "\n",
    "Reason: These null value is only a small portion compared with the whole dataset, thus it won't affect much with the analysis after we drop them.\n",
    "\n",
    "**Strategy:**\n",
    "1. Drop all the rows that contain null value\n",
    "2. Imputate the remaining null value with mean value by `Status`\n",
    "3. Delete column\n",
    "\n",
    "**Notes:**\n",
    "- Year: 2000~2015"
   ]
  },
  {
   "cell_type": "markdown",
   "id": "1f816640-87bd-4236-8e31-9ca8bd1c503f",
   "metadata": {
    "tags": []
   },
   "source": [
    "#### Null value count & percentage"
   ]
  },
  {
   "cell_type": "code",
   "execution_count": 22,
   "id": "7d78330a-1c6b-4e34-a71e-e142e8a8bf15",
   "metadata": {
    "tags": []
   },
   "outputs": [
    {
     "name": "stdout",
     "output_type": "stream",
     "text": [
      "Country                              0\n",
      "Year                                 0\n",
      "Status                               0\n",
      "Life expectancy                     10\n",
      "Adult Mortality                     10\n",
      "infant deaths                        0\n",
      "Alcohol                            194\n",
      "percentage expenditure               0\n",
      "Hepatitis B                        553\n",
      "Measles                              0\n",
      "BMI                                 34\n",
      "under-five deaths                    0\n",
      "Polio                               19\n",
      "Total expenditure                  226\n",
      "Diphtheria                          19\n",
      "HIV/AIDS                             0\n",
      "GDP                                448\n",
      "Population                         652\n",
      "thinness 10-19 years                34\n",
      "thinness 5-9 years                  34\n",
      "Income composition of resources    167\n",
      "Schooling                          163\n",
      "dtype: int64\n"
     ]
    }
   ],
   "source": [
    "# Checking for missing values in each column\n",
    "missing_values = data.isnull().sum()\n",
    "print(missing_values)"
   ]
  },
  {
   "cell_type": "code",
   "execution_count": 23,
   "id": "57a8d977-6375-410a-b678-b6aa744d4451",
   "metadata": {
    "tags": []
   },
   "outputs": [
    {
     "name": "stdout",
     "output_type": "stream",
     "text": [
      "Country                             0.000000\n",
      "Year                                0.000000\n",
      "Status                              0.000000\n",
      "Life expectancy                     0.340368\n",
      "Adult Mortality                     0.340368\n",
      "infant deaths                       0.000000\n",
      "Alcohol                             6.603131\n",
      "percentage expenditure              0.000000\n",
      "Hepatitis B                        18.822328\n",
      "Measles                             0.000000\n",
      "BMI                                 1.157250\n",
      "under-five deaths                   0.000000\n",
      "Polio                               0.646698\n",
      "Total expenditure                   7.692308\n",
      "Diphtheria                          0.646698\n",
      "HIV/AIDS                            0.000000\n",
      "GDP                                15.248468\n",
      "Population                         22.191967\n",
      "thinness 10-19 years                1.157250\n",
      "thinness 5-9 years                  1.157250\n",
      "Income composition of resources     5.684139\n",
      "Schooling                           5.547992\n",
      "dtype: float64\n"
     ]
    }
   ],
   "source": [
    "missing_percentage = missing_values * 100 / len(data)\n",
    "print(missing_percentage)"
   ]
  },
  {
   "cell_type": "code",
   "execution_count": 24,
   "id": "37818b08-f7a5-48a7-8294-276239f91501",
   "metadata": {
    "tags": []
   },
   "outputs": [
    {
     "ename": "ModuleNotFoundError",
     "evalue": "No module named 'matplotlib.pyplot'",
     "output_type": "error",
     "traceback": [
      "\u001b[1;31m---------------------------------------------------------------------------\u001b[0m",
      "\u001b[1;31mModuleNotFoundError\u001b[0m                       Traceback (most recent call last)",
      "Cell \u001b[1;32mIn[24], line 1\u001b[0m\n\u001b[1;32m----> 1\u001b[0m \u001b[38;5;28;01mimport\u001b[39;00m \u001b[38;5;21;01mmatplotlib\u001b[39;00m\u001b[38;5;21;01m.\u001b[39;00m\u001b[38;5;21;01mpyplot\u001b[39;00m \u001b[38;5;28;01mas\u001b[39;00m \u001b[38;5;21;01mplt\u001b[39;00m\n\u001b[0;32m      2\u001b[0m \u001b[38;5;28;01mimport\u001b[39;00m \u001b[38;5;21;01mseaborn\u001b[39;00m \u001b[38;5;28;01mas\u001b[39;00m \u001b[38;5;21;01msns\u001b[39;00m\n",
      "\u001b[1;31mModuleNotFoundError\u001b[0m: No module named 'matplotlib.pyplot'"
     ]
    }
   ],
   "source": [
    "import matplotlib.pyplot as plt\n",
    "import seaborn as sns"
   ]
  },
  {
   "cell_type": "code",
   "execution_count": null,
   "id": "e1a707ee-3320-415f-a2a3-a8ac0233c1b9",
   "metadata": {},
   "outputs": [],
   "source": [
    "print(type(data.isnull))\n",
    "#visual representation of missing values in the dataset\n",
    "plt.figure(figsize=(15,10))\n",
    "sns.heatmap(data.isnull(), cmap = 'crest')\n",
    "plt.show()"
   ]
  },
  {
   "cell_type": "markdown",
   "id": "036c4af4-af87-449e-a670-b75f98c3a0be",
   "metadata": {
    "tags": []
   },
   "source": [
    "#### Strategy Step1:\n",
    "**Drop all the rows that contain null value.**"
   ]
  },
  {
   "cell_type": "code",
   "execution_count": null,
   "id": "0a08ffb2-a4a3-43b2-88ad-8c29531551be",
   "metadata": {
    "tags": []
   },
   "outputs": [],
   "source": [
    "# Strategy Step1: Drop all the rows that contain null value\n",
    "data.dropna(\n",
    "    subset=['Life expectancy', 'Adult Mortality', 'Alcohol', 'BMI', 'Polio', 'Total expenditure', 'Diphtheria', 'thinness 10-19 years', 'thinness 5-9 years', 'Income composition of resources', 'Schooling'],\n",
    "    inplace=True)\n",
    "# Show the remaing columns that have null values\n",
    "data.isnull().sum()"
   ]
  },
  {
   "cell_type": "code",
   "execution_count": null,
   "id": "79c65f7a-6dbc-4054-9355-9d3df0f463e1",
   "metadata": {
    "tags": []
   },
   "outputs": [],
   "source": [
    "data['Year'].unique()"
   ]
  },
  {
   "cell_type": "markdown",
   "id": "285e65df-58b4-424b-a724-764c7d909aa9",
   "metadata": {
    "tags": []
   },
   "source": [
    "#### Strategy Step2. Imputate the remaining null value with mean value by `Status`"
   ]
  },
  {
   "cell_type": "markdown",
   "id": "0215cae2-e561-454e-9e56-7f4e726f5b9b",
   "metadata": {
    "tags": []
   },
   "source": [
    "##### Hepatitis B"
   ]
  },
  {
   "cell_type": "code",
   "execution_count": null,
   "id": "aaa90353-0b61-4e56-9630-67ad77259fd8",
   "metadata": {
    "tags": []
   },
   "outputs": [],
   "source": [
    "null_hep_b = data[data['Hepatitis B'].isnull()]\n",
    "null_hep_b_country = null_hep_b['Country'].unique()"
   ]
  },
  {
   "cell_type": "code",
   "execution_count": null,
   "id": "1b161ad2-47b3-4301-87e5-03c4c5031d50",
   "metadata": {
    "tags": []
   },
   "outputs": [],
   "source": [
    "for country in null_hep_b_country:\n",
    "    null_hep_b_country = null_hep_b[null_hep_b['Country'] == country]\n",
    "    print(country, \":\")\n",
    "    print(null_hep_b_country['Year'].unique())"
   ]
  },
  {
   "cell_type": "markdown",
   "id": "d7b483fa-f692-4e65-9b99-069cebb0a4b6",
   "metadata": {
    "tags": []
   },
   "source": [
    "##### GDP"
   ]
  },
  {
   "cell_type": "code",
   "execution_count": null,
   "id": "bda03ffa-7258-418c-a89b-41470189800c",
   "metadata": {
    "tags": []
   },
   "outputs": [],
   "source": [
    "null_gdp = data[data['GDP'].isnull()]\n",
    "null_gdp_country = null_gdp['Country'].unique()"
   ]
  },
  {
   "cell_type": "code",
   "execution_count": null,
   "id": "1d093ce6-7073-4270-b7c5-38ca83c3e27c",
   "metadata": {
    "tags": []
   },
   "outputs": [],
   "source": [
    "for country in null_gdp_country:\n",
    "    null_gdp_country = null_gdp[null_gdp['Country'] == country]\n",
    "    print(country, \":\")\n",
    "    print(null_gdp_country['Year'].unique())"
   ]
  },
  {
   "cell_type": "markdown",
   "id": "1868673a-afb4-45e0-95ed-287fd5d1368e",
   "metadata": {
    "tags": []
   },
   "source": [
    "##### Mean value of `Hepatitis B` & `GDP` by `Status`\n",
    "- __[`mean()` will exclude null value as default](https://pandas.pydata.org/pandas-docs/stable/reference/api/pandas.DataFrame.mean.html)__"
   ]
  },
  {
   "cell_type": "code",
   "execution_count": null,
   "id": "cad2ed2d-6f43-4cb5-80d0-19deaad74f8e",
   "metadata": {
    "tags": []
   },
   "outputs": [],
   "source": [
    "# Impute with Developed / Developing country's median value\n",
    "\n",
    "#Create a groupby object\n",
    "data_group = data.groupby('Status')\n",
    "\n",
    "#Select only required columns\n",
    "data_columns = data_group[['Hepatitis B', 'GDP']]\n",
    "\n",
    "#Apply aggregate function\n",
    "hep_B_gdp_by_status = data_columns.mean()\n",
    "\n",
    "hep_B_gdp_by_status"
   ]
  },
  {
   "cell_type": "markdown",
   "id": "3611be68-b629-4ba8-b01d-32568820ea44",
   "metadata": {
    "tags": []
   },
   "source": [
    "##### Fill null value (Imputate with Mean)"
   ]
  },
  {
   "cell_type": "code",
   "execution_count": null,
   "id": "f3749d26-14d0-40a9-a38f-13231b94fc66",
   "metadata": {
    "tags": []
   },
   "outputs": [],
   "source": [
    "# Fill missing values for 'Hepatitis B' based on 'Status'\n",
    "data.loc[data['Status'] == 'Developed', 'Hepatitis B'] = data.loc[data['Status'] == 'Developed', 'Hepatitis B'].fillna(\n",
    "    hep_B_gdp_by_status.loc['Developed','Hepatitis B'])\n",
    "data.loc[data['Status'] == 'Developing', 'Hepatitis B'] = data.loc[data['Status'] == 'Developing', 'Hepatitis B'].fillna(\n",
    "    hep_B_gdp_by_status.loc['Developing','Hepatitis B'])"
   ]
  },
  {
   "cell_type": "code",
   "execution_count": null,
   "id": "4620ecb9-3f7f-4ac5-b288-4d3c357d3a01",
   "metadata": {
    "tags": []
   },
   "outputs": [],
   "source": [
    "# Fill missing values for 'GDP' based on 'Status'\n",
    "data.loc[data['Status'] == 'Developed', 'GDP'] = data.loc[data['Status'] == 'Developed', 'GDP'].fillna(\n",
    "    hep_B_gdp_by_status.loc['Developed','GDP'])\n",
    "data.loc[data['Status'] == 'Developing', 'GDP'] = data.loc[data['Status'] == 'Developing', 'GDP'].fillna(\n",
    "    hep_B_gdp_by_status.loc['Developing','GDP'])"
   ]
  },
  {
   "cell_type": "markdown",
   "id": "ba45368d-457a-44c0-964f-5093c38c373e",
   "metadata": {
    "tags": []
   },
   "source": [
    "#### Strategy Step3. Delete column: Population"
   ]
  },
  {
   "cell_type": "code",
   "execution_count": null,
   "id": "15d2c633-307e-412f-b62f-bf3bf032797f",
   "metadata": {
    "tags": []
   },
   "outputs": [],
   "source": [
    "null_population = data[data['Population'].isnull()]\n",
    "null_population_country = null_population['Country'].unique()"
   ]
  },
  {
   "cell_type": "code",
   "execution_count": null,
   "id": "09d417c4-7ea6-49eb-9e56-fedb3396b564",
   "metadata": {
    "tags": []
   },
   "outputs": [],
   "source": [
    "# Drop Population\n",
    "data.drop(columns=['Population'], inplace=True)\n",
    "\n",
    "# Show the null value across columns\n",
    "data.isnull().sum()"
   ]
  },
  {
   "cell_type": "markdown",
   "id": "9c2d052c-781a-49f1-85a2-884abf0b04aa",
   "metadata": {
    "tags": []
   },
   "source": [
    "### Remove Dirty Data"
   ]
  },
  {
   "cell_type": "markdown",
   "id": "58ce12c3-5779-41a8-aed0-886bdef78261",
   "metadata": {},
   "source": [
    "__[Warning from the discussion](https://www.kaggle.com/datasets/kumarajarshi/life-expectancy-who/discussion/161872)__\n",
    "- Filter out the observations of the value > 1000 of three columns which is measured by `per 1000 population`\n",
    "    - `infant death`\n",
    "    - `Measles`\n",
    "    - `under-five deaths`"
   ]
  },
  {
   "cell_type": "code",
   "execution_count": null,
   "id": "ee869b1b-0111-4ef0-9e0e-48af186f74bd",
   "metadata": {
    "tags": []
   },
   "outputs": [],
   "source": [
    "data.describe()"
   ]
  },
  {
   "cell_type": "markdown",
   "id": "29091c9e-54ce-4b0e-8715-7ac40ecf7525",
   "metadata": {
    "tags": []
   },
   "source": [
    "#### Filter out the observations of the value > 1000 which measured by `per 1000 population`"
   ]
  },
  {
   "cell_type": "code",
   "execution_count": null,
   "id": "0614d035-f0ab-4e6d-9b0b-4e68b1cd2695",
   "metadata": {},
   "outputs": [],
   "source": [
    "# value of infant deaths, Measles, and under-five deaths should be <= 1000\n",
    "cols = [\"infant deaths\", \"Measles\", \"under-five deaths\"]\n",
    "\n",
    "# Filter out rows where any of the specified columns have values > 1,000\n",
    "data = data[(data[cols] <= 1000).all(axis=1)] # Filter and remain those <= 1000"
   ]
  },
  {
   "cell_type": "code",
   "execution_count": null,
   "id": "b871ffee-0b5b-4917-92c2-e8be8fd56d47",
   "metadata": {
    "tags": []
   },
   "outputs": [],
   "source": [
    "data.describe()"
   ]
  },
  {
   "cell_type": "code",
   "execution_count": null,
   "id": "1a2c8416-b1f4-4b7d-b588-2481148542e8",
   "metadata": {
    "tags": []
   },
   "outputs": [],
   "source": [
    "# Show the remaing columns that have null values\n",
    "data.isnull().sum()"
   ]
  },
  {
   "cell_type": "code",
   "execution_count": null,
   "id": "ee9db18d-4672-4f89-b464-7c762e626d19",
   "metadata": {
    "tags": []
   },
   "outputs": [],
   "source": [
    "data.shape"
   ]
  },
  {
   "cell_type": "markdown",
   "id": "f766aa6d-396f-41e1-8099-3f9e32ba0c82",
   "metadata": {},
   "source": [
    "## Exploratory Data Analysis (EDA)"
   ]
  },
  {
   "cell_type": "markdown",
   "id": "d0d7693a-560c-4b4f-b6d0-ba8deeb8e8c2",
   "metadata": {},
   "source": [
    "**Highlights:**\n",
    "- `Life expectancy`: Life expectancy reaches a peak in the **70-80 year range**, as seen in the histogram. The boxplot reveals that **more than 50% of the population lives beyond 70 years**, with the maximum life expectancy nearing 90 years. The median life expectancy is just above 70 years, indicating a generally high life expectancy. However, 25% of the population has a life expectancy of less than 65 years, with **several outliers living less than 50 years**. This reflects that while overall life expectancy is high, there are notable disparities, with a portion of the population suffering from significantly lower life expectancy. \n",
    "- **Right skew ( > 1)**: `under-five deaths`, `infant deaths` , `HIV/AIDS`, `percentage expenditure`, `GDP`, `Measles`, `Adult Mortality`, `thinness 5-9 years`, `thinness 10-19 years`\n",
    "- **Left skew ( < -1)**: `Income composition of resources`, `Hepatitis B`, `Polio`, `Diphtheria`\n",
    "\n",
    "<br>\n",
    "\n",
    "**Methods:**\n",
    "- `pandas.DataFrame.hist` : Only **numerical columns** will be plotted. __[Here for more info](https://pandas.pydata.org/docs/reference/api/pandas.DataFrame.hist.html)__\n",
    "- `subplot(nrows, ncols, index)` __[Here for more info](https://matplotlib.org/stable/api/_as_gen/matplotlib.pyplot.subplot.html)__\n",
    "- `kdeplot` : Only **numerical columns** will be plotted. __[Here for more info](https://seaborn.pydata.org/generated/seaborn.kdeplot.html)__"
   ]
  },
  {
   "cell_type": "code",
   "execution_count": null,
   "id": "93aefb09-2f42-46d3-a30f-e3cc8032bf0a",
   "metadata": {
    "tags": []
   },
   "outputs": [],
   "source": [
    "# Check the histograms\n",
    "data.hist(bins=35, figsize=(18, 12))\n",
    "plt.show()"
   ]
  },
  {
   "cell_type": "code",
   "execution_count": null,
   "id": "14d885e1-519c-45d6-ba9f-b7c0b243ee5e",
   "metadata": {
    "tags": []
   },
   "outputs": [],
   "source": [
    "num_cols = data.select_dtypes(\"number\").columns # select all numeric types\n",
    "print(f\"There are {len(cols)} numeric columns: \\n {cols}\")\n",
    "\n",
    "non_num_cols = data.select_dtypes(exclude=['int64', 'float64']).columns # select all numeric types\n",
    "print(f\"There are {len(non_num_cols)} non numeric columns: \\n {non_num_cols}\")"
   ]
  },
  {
   "cell_type": "code",
   "execution_count": null,
   "id": "0a7153a4-2d24-41cb-a9ad-179842939728",
   "metadata": {
    "tags": []
   },
   "outputs": [],
   "source": [
    "fig = plt.figure(figsize=(25,18))\n",
    "\n",
    "graph_index = 1 # Set the position of the subplot to 1\n",
    "for col in num_cols:\n",
    "    plt.subplot(5, 4, graph_index) # subplot(nrows, ncols, index)\n",
    "    graph = sns.kdeplot(data = data, x = col, fill = True)\n",
    "    graph_index += 1 # Set the position to the next one"
   ]
  },
  {
   "cell_type": "code",
   "execution_count": null,
   "id": "95cd9c49-4309-4069-ba17-2043cbd5ac2c",
   "metadata": {
    "tags": []
   },
   "outputs": [],
   "source": [
    "fig = plt.figure(figsize=(25,18))\n",
    "\n",
    "boxplot_index = 1 # Set the position of the subplot to 1\n",
    "for col in num_cols:\n",
    "    plt.subplot(5, 4, boxplot_index) # subplot(nrows, ncols, index)\n",
    "    # The higher the better (Life expectancy & immunization coverage)\n",
    "    if col in ['Life expectancy', 'Hepatitis B', 'Polio', 'Diphtheria']:\n",
    "        boxplot = sns.boxplot(data=data, x=col, boxprops=dict(alpha=1))  # Set alpha for transparency\n",
    "    else:\n",
    "        boxplot = sns.boxplot(data=data, x=col, boxprops=dict(alpha=0.4))  # Set alpha for transparency\n",
    "    boxplot_index += 1 # Set the position to the next one"
   ]
  },
  {
   "cell_type": "code",
   "execution_count": null,
   "id": "22cba00b-c6c0-4f1c-9b2b-fc35c98a8426",
   "metadata": {
    "tags": []
   },
   "outputs": [],
   "source": [
    "data.skew(axis = 0, skipna=True, numeric_only=True).sort_values(ascending=False) # Skewness in each numeric column with ascending order"
   ]
  },
  {
   "cell_type": "markdown",
   "id": "ec886dcd-14a7-449f-96ea-70aeec340a11",
   "metadata": {},
   "source": [
    "- **Positive** value: The distribution is skewed to the **right**.\n",
    "- **Negative** value: The distribution is skewed to the **left**.\n",
    "- **0**: **Perfect normal distribution**."
   ]
  },
  {
   "cell_type": "markdown",
   "id": "dcc8b982-e1a5-49d4-b9d0-adf4c9f5839a",
   "metadata": {},
   "source": [
    "### 🔓synthetic data\n",
    "adding synthetic data for unbiased data <br>\n",
    "https://www.techtarget.com/searchcio/definition/synthetic-data <br>\n",
    "https://broutonlab.com/blog/ai-bias-solved-with-synthetic-data-generation/"
   ]
  },
  {
   "cell_type": "markdown",
   "id": "b60ca6fd-dd65-4b00-a270-65f9f244eca6",
   "metadata": {},
   "source": [
    "As we further analyze, we found out that in a total of 168 countries:\n",
    "- Developed: **29** (with 406 observations)\n",
    "- Developing: **139** (with 1710 observations)\n",
    "\n",
    "This finding can explain why the box plot has so many outliers (⚠️why?)"
   ]
  },
  {
   "cell_type": "code",
   "execution_count": null,
   "id": "7c281a54-bb9a-4596-bcf4-b5d2b47d93d9",
   "metadata": {
    "tags": []
   },
   "outputs": [],
   "source": [
    "country_status = data.groupby('Country')['Status'].value_counts()\n",
    "country_status # Type: Series"
   ]
  },
  {
   "cell_type": "code",
   "execution_count": null,
   "id": "bc4cd60c-f1e8-4676-be11-fdcf22582218",
   "metadata": {
    "tags": []
   },
   "outputs": [],
   "source": [
    "# Count the number of unique countries\n",
    "num_countries = country_status.index.get_level_values('Country').nunique()\n",
    "print(f'Number of unique countries: {num_countries}')"
   ]
  },
  {
   "cell_type": "code",
   "execution_count": null,
   "id": "0f4ecf16-83b5-485f-a004-f0cb5c6d824c",
   "metadata": {
    "tags": []
   },
   "outputs": [],
   "source": [
    "# Count the total number of countries in each status group\n",
    "countries_per_status = country_status.groupby('Status').size()\n",
    "\n",
    "# Group by 'Status' and then count the number of unique countries in each group\n",
    "#countries_per_status = country_status.groupby('Status').apply(lambda x: x.index.get_level_values('Country').nunique())\n",
    "\n",
    "print(countries_per_status)"
   ]
  },
  {
   "cell_type": "code",
   "execution_count": null,
   "id": "87a08925-3351-4ed8-a3ac-b6db8d484f6b",
   "metadata": {
    "tags": []
   },
   "outputs": [],
   "source": [
    "# Count the total number of observations in each status group\n",
    "observations_per_status = country_status.groupby('Status').sum()\n",
    "observations_per_status"
   ]
  },
  {
   "cell_type": "code",
   "execution_count": null,
   "id": "04cd712f-d19e-4acc-8c56-da5b73355d49",
   "metadata": {
    "tags": []
   },
   "outputs": [],
   "source": [
    "# Combine the results into a DataFrame\n",
    "status_summary = pd.DataFrame({'# of Countries': countries_per_status, '# of Observations': observations_per_status})\n",
    "\n",
    "print(status_summary)"
   ]
  },
  {
   "cell_type": "code",
   "execution_count": null,
   "id": "19be7f78-7394-4772-996e-b8a31d64888a",
   "metadata": {},
   "outputs": [],
   "source": []
  },
  {
   "cell_type": "code",
   "execution_count": null,
   "id": "97b9a8c8-9d9e-4e13-8c61-51b3f1f78c07",
   "metadata": {},
   "outputs": [],
   "source": []
  },
  {
   "cell_type": "code",
   "execution_count": null,
   "id": "db22e44a-9d15-4141-8a08-947423d05dcc",
   "metadata": {
    "tags": []
   },
   "outputs": [],
   "source": [
    "from imblearn.over_sampling import SMOTE\n",
    "import pandas as pd\n",
    "from sklearn.preprocessing import StandardScaler\n",
    "\n",
    "# Separate features and target variable\n",
    "X = data.drop('Status', axis=1)  # Features\n",
    "y = data['Status']               # Target\n",
    "\n",
    "# Apply SMOTE to balance the dataset\n",
    "smote = SMOTE(random_state=42)\n",
    "X_resampled, y_resampled = smote.fit_resample(X, y)\n",
    "\n",
    "# Combine resampled data into a DataFrame\n",
    "data_resampled = pd.DataFrame(X_resampled, columns=X.columns)\n",
    "data_resampled['Status'] = y_resampled\n",
    "\n",
    "# Display the count of each unique value in the 'Status' column after resampling\n",
    "print(data_resampled['Status'].value_counts())"
   ]
  },
  {
   "cell_type": "code",
   "execution_count": null,
   "id": "5de96093-4dd9-476c-93f5-57e8e0b59bf9",
   "metadata": {},
   "outputs": [],
   "source": []
  },
  {
   "cell_type": "markdown",
   "id": "f8765cea-fa77-4ad1-87af-54f5ae9efd34",
   "metadata": {},
   "source": [
    "### Correlation"
   ]
  },
  {
   "cell_type": "markdown",
   "id": "a8a0e58f-8cb8-4efc-86e2-53ac561719ca",
   "metadata": {},
   "source": [
    "## Data Visualization"
   ]
  },
  {
   "cell_type": "markdown",
   "id": "75305190-7919-4f11-a7d5-99d1b160b2d0",
   "metadata": {},
   "source": [
    "## Predictive Model"
   ]
  },
  {
   "cell_type": "code",
   "execution_count": null,
   "id": "075f923a-631c-4e50-a83c-89fa8d86135f",
   "metadata": {},
   "outputs": [],
   "source": [
    "import pandas as pd\n",
    "from sklearn.model_selection import train_test_split\n",
    "from sklearn.linear_model import LinearRegression\n",
    "from sklearn.metrics import mean_squared_error\n",
    "import numpy as np\n",
    "\n",
    "\n",
    "\n",
    "# List of numerical features and target\n",
    "numerical_features = [\n",
    "    'Adult Mortality', 'infant deaths', 'Alcohol', 'percentage expenditure', \n",
    "    'Hepatitis B', 'Measles', 'BMI', 'under-five deaths', 'Polio', \n",
    "    'Total expenditure', 'Diphtheria', 'HIV/AIDS', 'GDP', \n",
    "    'thinness 10-19 years', 'thinness 5-9 years', 'Income composition of resources', \n",
    "    'Schooling'\n",
    "]\n",
    "target = 'Life expectancy'\n",
    "\n",
    "# Prepare the features and target, handling missing values\n",
    "X = data[numerical_features]\n",
    "y = data[target]\n",
    "\n",
    "# Split the data into training and testing sets\n",
    "X_train, X_test, y_train, y_test = train_test_split(X, y, test_size=0.2, random_state=42)\n",
    "\n",
    "# Fit the linear regression model\n",
    "model = LinearRegression()\n",
    "model.fit(X_train, y_train)\n",
    "\n",
    "# Predict and evaluate the model\n",
    "y_pred = model.predict(X_test)\n",
    "r_squared = model.score(X_test, y_test)\n",
    "mse = mean_squared_error(y_test, y_pred)\n",
    "\n",
    "print(f'R-squared: {r_squared:.2f}, Mean Squared Error: {mse:.2f}')\n"
   ]
  },
  {
   "cell_type": "code",
   "execution_count": null,
   "id": "e3508468-d546-4cf7-977e-57c0ce410e49",
   "metadata": {},
   "outputs": [],
   "source": [
    "# Scatter plot for Actual vs Predicted values\n",
    "plt.figure(figsize=(10, 6))\n",
    "plt.scatter(y_test, y_pred, alpha=0.5, color='blue')\n",
    "plt.plot([min(y_test), max(y_test)], [min(y_test), max(y_test)], color='red')  # Diagonal line\n",
    "plt.xlabel('Actual Life Expectancy')\n",
    "plt.ylabel('Predicted Life Expectancy')\n",
    "plt.title('Actual vs Predicted Life Expectancy')\n",
    "plt.show()"
   ]
  },
  {
   "cell_type": "code",
   "execution_count": null,
   "id": "266fb6a8-f895-4dbb-bcc3-518d9583ffe9",
   "metadata": {},
   "outputs": [],
   "source": [
    "import pandas as pd\n",
    "from sklearn.model_selection import train_test_split\n",
    "from sklearn.linear_model import LinearRegression\n",
    "from sklearn.metrics import mean_squared_error\n",
    "import numpy as np\n",
    "\n",
    "\n",
    "# Filter the dataset for the desired years (e.g., 2010-2015)\n",
    "years_of_interest = [2012, 2013, 2014, 2015]\n",
    "filtered_data = data[data['Year'].isin(years_of_interest)]\n",
    "\n",
    "# List of numerical features and target\n",
    "numerical_features = [\n",
    "    'Adult Mortality', 'infant deaths', 'Alcohol', 'percentage expenditure', \n",
    "    'Hepatitis B', 'Measles', 'BMI', 'under-five deaths', 'Polio', \n",
    "    'Total expenditure', 'Diphtheria', 'HIV/AIDS', 'GDP', \n",
    "    'thinness 10-19 years', 'thinness 5-9 years', 'Income composition of resources', \n",
    "    'Schooling'\n",
    "]\n",
    "target = 'Life expectancy'\n",
    "\n",
    "# Prepare the features and target, handling missing values\n",
    "Xf = filtered_data[numerical_features]\n",
    "yf = filtered_data[target]\n",
    "\n",
    "\n",
    "# Split the data into training and testing sets\n",
    "Xf_train, Xf_test, yf_train, yf_test = train_test_split(Xf, yf, test_size=0.2, random_state=42)\n",
    "\n",
    "# Fit the linear regression model\n",
    "model = LinearRegression()\n",
    "model.fit(Xf_train, yf_train)\n",
    "\n",
    "# Predict and evaluate the model\n",
    "yf_pred = model.predict(Xf_test)\n",
    "r_squared = model.score(Xf_test, yf_test)\n",
    "mse = mean_squared_error(yf_test, yf_pred)\n",
    "\n",
    "print(f'R-squared: {r_squared:.2f}, Mean Squared Error: {mse:.2f}')\n"
   ]
  },
  {
   "cell_type": "code",
   "execution_count": null,
   "id": "47910b4d-02d8-480c-bd0e-57cb69da52d5",
   "metadata": {},
   "outputs": [],
   "source": [
    "# Scatter plot for Actual vs Predicted values\n",
    "plt.figure(figsize=(10, 6))\n",
    "plt.scatter(yf_test, yf_pred, alpha=0.5, color='blue')\n",
    "plt.plot([min(yf_test), max(yf_test)], [min(yf_test), max(yf_test)], color='red')  # Diagonal line\n",
    "plt.xlabel('Actual Life Expectancy')\n",
    "plt.ylabel('Predicted Life Expectancy')\n",
    "plt.title('Actual vs Predicted Life Expectancy')\n",
    "plt.show()"
   ]
  },
  {
   "cell_type": "code",
   "execution_count": null,
   "id": "a6c93021-37e7-45e7-bdd5-d1df98a0f702",
   "metadata": {},
   "outputs": [],
   "source": [
    "from sklearn.linear_model import Ridge\n",
    "from sklearn.pipeline import make_pipeline\n",
    "from sklearn.preprocessing import StandardScaler\n",
    "from sklearn.metrics import r2_score\n",
    "\n",
    "# Create a Ridge regression model\n",
    "ridge_model = make_pipeline(StandardScaler(), Ridge(alpha=1.0))\n",
    "\n",
    "# Train the model\n",
    "ridge_model.fit(X_train, y_train)\n",
    "\n",
    "# Predict on the test set\n",
    "y_pred_ridge = ridge_model.predict(X_test)\n",
    "\n",
    "# Calculate mean squared error and R-squared\n",
    "mse_ridge = mean_squared_error(y_test, y_pred_ridge)\n",
    "r2_ridge = r2_score(y_test, y_pred_ridge)\n",
    "\n",
    "print(f'Mean Squared Error (Ridge): {mse_ridge}')\n",
    "print(f'R-squared (Ridge): {r2_ridge}')\n"
   ]
  },
  {
   "cell_type": "code",
   "execution_count": null,
   "id": "2a8ed03d-6ba8-4788-9b8b-b78216b0c7ab",
   "metadata": {},
   "outputs": [],
   "source": [
    "from sklearn.linear_model import Lasso\n",
    "\n",
    "# Create a Lasso regression model\n",
    "lasso_model = make_pipeline(StandardScaler(), Lasso(alpha=0.1))\n",
    "\n",
    "# Train the model\n",
    "lasso_model.fit(X_train, y_train)\n",
    "\n",
    "# Predict on the test set\n",
    "y_pred_lasso = lasso_model.predict(X_test)\n",
    "\n",
    "# Calculate mean squared error and R-squared\n",
    "mse_lasso = mean_squared_error(y_test, y_pred_lasso)\n",
    "r2_lasso = r2_score(y_test, y_pred_lasso)\n",
    "\n",
    "print(f'Mean Squared Error (Lasso): {mse_lasso}')\n",
    "print(f'R-squared (Lasso): {r2_lasso}')\n"
   ]
  },
  {
   "cell_type": "code",
   "execution_count": null,
   "id": "cd2109d1-e627-441c-8ee6-fcfc3045a1e8",
   "metadata": {},
   "outputs": [],
   "source": [
    "from sklearn.ensemble import RandomForestRegressor\n",
    "\n",
    "# Create a Random Forest regression model\n",
    "rf_model = RandomForestRegressor(n_estimators=100, random_state=42)\n",
    "\n",
    "# Train the model\n",
    "rf_model.fit(X_train, y_train)\n",
    "\n",
    "# Predict on the test set\n",
    "y_pred_rf = rf_model.predict(X_test)\n",
    "\n",
    "# Calculate mean squared error and R-squared\n",
    "mse_rf = mean_squared_error(y_test, y_pred_rf)\n",
    "r2_rf = r2_score(y_test, y_pred_rf)\n",
    "\n",
    "print(f'Mean Squared Error (Random Forest): {mse_rf}')\n",
    "print(f'R-squared (Random Forest): {r2_rf}')\n",
    "\n"
   ]
  },
  {
   "cell_type": "code",
   "execution_count": null,
   "id": "aff1f374-d918-464d-8e85-19cb08148066",
   "metadata": {},
   "outputs": [],
   "source": [
    "import matplotlib.pyplot as plt\n",
    "\n",
    "def plot_results(y_test, y_pred_ridge, y_pred_lasso, y_pred_rf):\n",
    "    plt.figure(figsize=(15, 5))\n",
    "\n",
    "    # Ridge Regression\n",
    "    plt.subplot(1, 3, 1)\n",
    "    plt.scatter(y_test, y_pred_ridge, alpha=0.5, color='blue')\n",
    "    plt.plot([min(y_test), max(y_test)], [min(y_test), max(y_test)], color='red')  # Diagonal line\n",
    "    plt.xlabel('Actual Life Expectancy')\n",
    "    plt.ylabel('Predicted Life Expectancy')\n",
    "    plt.title('Ridge Regression')\n",
    "\n",
    "    # Lasso Regression\n",
    "    plt.subplot(1, 3, 2)\n",
    "    plt.scatter(y_test, y_pred_lasso, alpha=0.5, color='green')\n",
    "    plt.plot([min(y_test), max(y_test)], [min(y_test), max(y_test)], color='red')  # Diagonal line\n",
    "    plt.xlabel('Actual Life Expectancy')\n",
    "    plt.ylabel('Predicted Life Expectancy')\n",
    "    plt.title('Lasso Regression')\n",
    "\n",
    "    # Random Forest Regression\n",
    "    plt.subplot(1, 3, 3)\n",
    "    plt.scatter(y_test, y_pred_rf, alpha=0.5, color='purple')\n",
    "    plt.plot([min(y_test), max(y_test)], [min(y_test), max(y_test)], color='red')  # Diagonal line\n",
    "    plt.xlabel('Actual Life Expectancy')\n",
    "    plt.ylabel('Predicted Life Expectancy')\n",
    "    plt.title('Random Forest Regression')\n",
    "\n",
    "    plt.tight_layout()\n",
    "    plt.show()\n",
    "\n",
    "# Plot results for each model side by side\n",
    "plot_results(y_test, y_pred_ridge, y_pred_lasso, y_pred_rf)\n"
   ]
  }
 ],
 "metadata": {
  "kernelspec": {
   "display_name": "Python 3 (ipykernel)",
   "language": "python",
   "name": "python3"
  },
  "language_info": {
   "codemirror_mode": {
    "name": "ipython",
    "version": 3
   },
   "file_extension": ".py",
   "mimetype": "text/x-python",
   "name": "python",
   "nbconvert_exporter": "python",
   "pygments_lexer": "ipython3",
   "version": "3.11.5"
  }
 },
 "nbformat": 4,
 "nbformat_minor": 5
}
